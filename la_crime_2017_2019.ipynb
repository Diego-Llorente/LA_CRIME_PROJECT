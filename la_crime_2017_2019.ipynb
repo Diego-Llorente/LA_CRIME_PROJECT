{
 "cells": [
  {
   "cell_type": "code",
   "execution_count": 1,
   "id": "cf1bf61a",
   "metadata": {},
   "outputs": [],
   "source": [
    "#We import the libraries we're going to use.\n",
    "%load_ext autoreload\n",
    "%autoreload 2\n",
    "\n",
    "import project_functions as pf\n",
    "import pandas as pd\n",
    "import numpy as np\n",
    "import seaborn as sns\n",
    "import matplotlib.pyplot as plt\n",
    "import re\n",
    "import requests\n",
    "from bs4 import BeautifulSoup\n",
    "import folium\n",
    "import json\n",
    "import zipfile\n",
    "import os\n",
    "import kaggle"
   ]
  },
  {
   "cell_type": "code",
   "execution_count": 2,
   "id": "a15e4237",
   "metadata": {},
   "outputs": [],
   "source": [
    "#We're going to use kaggle API to download our dataset.\n",
    "from kaggle.api.kaggle_api_extended import KaggleApi\n",
    "api = KaggleApi()\n",
    "api.authenticate()"
   ]
  },
  {
   "cell_type": "code",
   "execution_count": 3,
   "id": "a8f79b6f",
   "metadata": {},
   "outputs": [
    {
     "name": "stdout",
     "output_type": "stream",
     "text": [
      "ref                                                              title                                             size  lastUpdated          downloadCount  voteCount  usabilityRating  \n",
      "---------------------------------------------------------------  -----------------------------------------------  -----  -------------------  -------------  ---------  ---------------  \n",
      "kushsheth/los-angeles-police-department-lapd-crime-data          Los Angeles Police Department (LAPD) Crime Data   36MB  2024-09-10 10:32:53            531         22  1.0              \n",
      "ishmaelkiptoo/usa-los-angeles-crimes-data-2020-to-2023           USA, Los Angeles Crimes Data: 2020 To 2023        41MB  2023-11-14 05:31:05           1195         32  1.0              \n",
      "hemil26/crime-in-los-angeles                                     Los Angeles Crime Data                            43MB  2024-07-30 21:47:45           2099         75  1.0              \n",
      "saurabhbadole/crime-incidents-in-los-angeles-2020-to-present     Crime Incidents in Los Angeles: 2020 to 2024      48MB  2024-08-18 15:23:35            740         45  1.0              \n",
      "sumaiaparveenshupti/los-angeles-crime-data-20102020              Los Angeles Crime Data 2010-2020                 113MB  2021-06-22 20:09:10           1253         30  1.0              \n",
      "sunnykakar/lapd-crime-data-for-hollywood-dataset                 LAPD Crime Data for Hollywood Dataset              4MB  2024-03-25 15:14:52             24          5  0.9411765        \n",
      "middlehigh/los-angeles-crime-data-from-2000                      USA Big City Crime Data                          502MB  2024-05-28 18:56:36            786         22  1.0              \n",
      "benmann2448/los-angeles-crime-data-from-2020-to-present          Los Angeles crime data from 2020 to present         0B  2024-04-04 14:36:48             12          4  0.9411765        \n",
      "bayusuarsa/crime-data-from-2020-to-present                       Crime Data from 2020 to Present                   34MB  2023-05-16 16:07:41            197          7  0.8235294        \n",
      "varundeepakgudhe/crime-data-from-2020-to-present-in-los-angeles  Crime Data from 2020 to present in Los Angeles    46MB  2024-04-26 06:04:58            245          7  0.9411765        \n",
      "benmann2448/ethnicity-of-victims-of-crimes-in-la-2020-2024       Ethnicity of Victims of Crimes in LA              653B  2024-04-11 15:01:45             15          4  0.9411765        \n",
      "benmann2448/crimes-committed-in-la-2020-2024                     Crimes committed in LA (2020-2024)                 2KB  2024-04-11 14:35:48             18          3  0.9411765        \n",
      "aaronnorman/cleaned-lapd-data                                    Cleaned LAPD data                                 45MB  2024-06-28 14:09:17             20          2  0.7647059        \n",
      "thoolihan/los-angeles-1992-riot-deaths-from-la-times             Los Angeles 1992 Riot Deaths from LA Times        16KB  2020-06-03 21:09:07            452         22  1.0              \n",
      "jaberimohamedhabib/crimes                                        Crimes                                             5MB  2024-05-15 19:30:34             12          1  0.47058824       \n",
      "zeeshanarif7/la-city-crime-data                                  Los Angeles Crime Data                            38MB  2023-08-18 05:50:26             45          1  0.9411765        \n",
      "stevenayare/lapd-crime                                           LAPD_CRIME                                        44MB  2024-04-03 14:53:12              0          0  0.23529412       \n",
      "raminhuseyn/crime-data-from-2020-to-present                      City of Los Angeles Crime data                    46MB  2024-04-29 19:56:11             25          0  0.9411765        \n",
      "vimalkumarnarasiman/crime-data                                   Crime Data                                        46MB  2024-05-22 12:42:26             12          0  0.5882353        \n",
      "michaelsammons/lapd-shooting-incidents                           LAPD Shooting Incidents                           17KB  2022-03-31 01:37:41             16          2  0.4117647        \n"
     ]
    }
   ],
   "source": [
    "#We look for the available datasets for our search \"lapd-crime\"\n",
    "!kaggle datasets list -s 'lapd-crime'"
   ]
  },
  {
   "cell_type": "code",
   "execution_count": 4,
   "id": "7bf0359a",
   "metadata": {},
   "outputs": [
    {
     "name": "stdout",
     "output_type": "stream",
     "text": [
      "Dataset URL: https://www.kaggle.com/datasets/sumaiaparveenshupti/los-angeles-crime-data-20102020\n",
      "License(s): CC0-1.0\n",
      "Downloading los-angeles-crime-data-20102020.zip to C:\\Users\\diego\\Documents\\IRONHACK\\DATA_ANALYTICS\\WEEK_3\\PROJECT\n",
      "\n"
     ]
    },
    {
     "name": "stderr",
     "output_type": "stream",
     "text": [
      "\n",
      "  0%|          | 0.00/113M [00:00<?, ?B/s]\n",
      "  1%|          | 1.00M/113M [00:00<00:42, 2.75MB/s]\n",
      "  2%|1         | 2.00M/113M [00:00<00:24, 4.85MB/s]\n",
      "  4%|3         | 4.00M/113M [00:00<00:12, 9.06MB/s]\n",
      "  7%|7         | 8.00M/113M [00:00<00:06, 17.4MB/s]\n",
      " 10%|9         | 11.0M/113M [00:00<00:05, 19.6MB/s]\n",
      " 12%|#2        | 14.0M/113M [00:01<00:05, 18.2MB/s]\n",
      " 14%|#4        | 16.0M/113M [00:01<00:05, 17.9MB/s]\n",
      " 17%|#6        | 19.0M/113M [00:01<00:06, 15.0MB/s]\n",
      " 20%|##        | 23.0M/113M [00:01<00:05, 17.6MB/s]\n",
      " 24%|##3       | 27.0M/113M [00:01<00:04, 21.9MB/s]\n",
      " 27%|##7       | 31.0M/113M [00:01<00:03, 25.7MB/s]\n",
      " 31%|###       | 35.0M/113M [00:01<00:03, 26.3MB/s]\n",
      " 34%|###4      | 39.0M/113M [00:02<00:02, 29.1MB/s]\n",
      " 37%|###7      | 42.0M/113M [00:02<00:02, 29.6MB/s]\n",
      " 40%|###9      | 45.0M/113M [00:02<00:02, 26.1MB/s]\n",
      " 42%|####2     | 48.0M/113M [00:02<00:03, 18.6MB/s]\n",
      " 45%|####5     | 51.0M/113M [00:02<00:03, 19.9MB/s]\n",
      " 48%|####7     | 54.0M/113M [00:02<00:02, 21.9MB/s]\n",
      " 51%|#####1    | 58.0M/113M [00:02<00:02, 25.8MB/s]\n",
      " 55%|#####4    | 62.0M/113M [00:03<00:01, 28.5MB/s]\n",
      " 58%|#####8    | 66.0M/113M [00:03<00:01, 27.5MB/s]\n",
      " 62%|######1   | 70.0M/113M [00:03<00:01, 30.2MB/s]\n",
      " 65%|######5   | 74.0M/113M [00:03<00:01, 32.3MB/s]\n",
      " 69%|######8   | 78.0M/113M [00:03<00:01, 33.9MB/s]\n",
      " 72%|#######2  | 82.0M/113M [00:03<00:00, 34.9MB/s]\n",
      " 76%|#######5  | 86.0M/113M [00:03<00:01, 28.3MB/s]\n",
      " 79%|#######8  | 89.0M/113M [00:04<00:00, 25.8MB/s]\n",
      " 81%|########1 | 92.0M/113M [00:04<00:00, 27.0MB/s]\n",
      " 84%|########3 | 95.0M/113M [00:04<00:00, 27.6MB/s]\n",
      " 87%|########7 | 99.0M/113M [00:04<00:00, 30.1MB/s]\n",
      " 90%|######### | 102M/113M [00:04<00:00, 28.8MB/s] \n",
      " 93%|#########2| 105M/113M [00:04<00:00, 29.4MB/s]\n",
      " 96%|#########6| 109M/113M [00:04<00:00, 31.2MB/s]\n",
      "100%|#########9| 113M/113M [00:04<00:00, 33.3MB/s]\n",
      "100%|##########| 113M/113M [00:04<00:00, 24.4MB/s]\n"
     ]
    }
   ],
   "source": [
    "#We download the dataset we are interested in.\n",
    "!kaggle datasets download -d \"sumaiaparveenshupti/los-angeles-crime-data-20102020\""
   ]
  },
  {
   "cell_type": "code",
   "execution_count": 6,
   "id": "11201767",
   "metadata": {},
   "outputs": [],
   "source": [
    "#Now we unzip it.\n",
    "z= zipfile.ZipFile('los-angeles-crime-data-20102020.zip')\n",
    "\n",
    "z.extractall()"
   ]
  },
  {
   "cell_type": "code",
   "execution_count": 7,
   "id": "74a7f3dd",
   "metadata": {},
   "outputs": [],
   "source": [
    "#We create a dataframe from the csv file.\n",
    "df = pd.read_csv('Crime_Data_from_2010_to_2019.csv')"
   ]
  },
  {
   "cell_type": "code",
   "execution_count": 9,
   "id": "236285af",
   "metadata": {
    "scrolled": true
   },
   "outputs": [
    {
     "data": {
      "text/plain": [
       "(2117589, 28)"
      ]
     },
     "execution_count": 9,
     "metadata": {},
     "output_type": "execute_result"
    }
   ],
   "source": [
    "#We check the number of rows and columns in the DF.\n",
    "df.shape"
   ]
  },
  {
   "cell_type": "code",
   "execution_count": 10,
   "id": "631dfa76",
   "metadata": {
    "scrolled": false
   },
   "outputs": [
    {
     "data": {
      "text/plain": [
       "Index(['DR_NO', 'Date Rptd', 'DATE OCC', 'TIME OCC', 'AREA ', 'AREA NAME',\n",
       "       'Rpt Dist No', 'Part 1-2', 'Crm Cd', 'Crm Cd Desc', 'Mocodes',\n",
       "       'Vict Age', 'Vict Sex', 'Vict Descent', 'Premis Cd', 'Premis Desc',\n",
       "       'Weapon Used Cd', 'Weapon Desc', 'Status', 'Status Desc', 'Crm Cd 1',\n",
       "       'Crm Cd 2', 'Crm Cd 3', 'Crm Cd 4', 'LOCATION', 'Cross Street', 'LAT',\n",
       "       'LON'],\n",
       "      dtype='object')"
      ]
     },
     "execution_count": 10,
     "metadata": {},
     "output_type": "execute_result"
    }
   ],
   "source": [
    "#We check the column titles to see if they need cleaning.\n",
    "df.columns"
   ]
  },
  {
   "cell_type": "code",
   "execution_count": 11,
   "id": "f0a61549",
   "metadata": {
    "scrolled": true
   },
   "outputs": [
    {
     "data": {
      "text/plain": [
       "28"
      ]
     },
     "execution_count": 11,
     "metadata": {},
     "output_type": "execute_result"
    }
   ],
   "source": [
    "df.columns.nunique()"
   ]
  },
  {
   "cell_type": "code",
   "execution_count": 12,
   "id": "7fe1bbec",
   "metadata": {
    "scrolled": false
   },
   "outputs": [
    {
     "data": {
      "text/html": [
       "<div>\n",
       "<style scoped>\n",
       "    .dataframe tbody tr th:only-of-type {\n",
       "        vertical-align: middle;\n",
       "    }\n",
       "\n",
       "    .dataframe tbody tr th {\n",
       "        vertical-align: top;\n",
       "    }\n",
       "\n",
       "    .dataframe thead th {\n",
       "        text-align: right;\n",
       "    }\n",
       "</style>\n",
       "<table border=\"1\" class=\"dataframe\">\n",
       "  <thead>\n",
       "    <tr style=\"text-align: right;\">\n",
       "      <th></th>\n",
       "      <th>DR_NO</th>\n",
       "      <th>Date Rptd</th>\n",
       "      <th>DATE OCC</th>\n",
       "      <th>TIME OCC</th>\n",
       "      <th>AREA</th>\n",
       "      <th>AREA NAME</th>\n",
       "      <th>Rpt Dist No</th>\n",
       "      <th>Part 1-2</th>\n",
       "      <th>Crm Cd</th>\n",
       "      <th>Crm Cd Desc</th>\n",
       "      <th>...</th>\n",
       "      <th>Status</th>\n",
       "      <th>Status Desc</th>\n",
       "      <th>Crm Cd 1</th>\n",
       "      <th>Crm Cd 2</th>\n",
       "      <th>Crm Cd 3</th>\n",
       "      <th>Crm Cd 4</th>\n",
       "      <th>LOCATION</th>\n",
       "      <th>Cross Street</th>\n",
       "      <th>LAT</th>\n",
       "      <th>LON</th>\n",
       "    </tr>\n",
       "  </thead>\n",
       "  <tbody>\n",
       "    <tr>\n",
       "      <th>0</th>\n",
       "      <td>1307355</td>\n",
       "      <td>02/20/2010 12:00:00 AM</td>\n",
       "      <td>02/20/2010 12:00:00 AM</td>\n",
       "      <td>1350</td>\n",
       "      <td>13</td>\n",
       "      <td>Newton</td>\n",
       "      <td>1385</td>\n",
       "      <td>2</td>\n",
       "      <td>900</td>\n",
       "      <td>VIOLATION OF COURT ORDER</td>\n",
       "      <td>...</td>\n",
       "      <td>AA</td>\n",
       "      <td>Adult Arrest</td>\n",
       "      <td>900.0</td>\n",
       "      <td>NaN</td>\n",
       "      <td>NaN</td>\n",
       "      <td>NaN</td>\n",
       "      <td>300 E  GAGE                         AV</td>\n",
       "      <td>NaN</td>\n",
       "      <td>33.9825</td>\n",
       "      <td>-118.2695</td>\n",
       "    </tr>\n",
       "    <tr>\n",
       "      <th>1</th>\n",
       "      <td>11401303</td>\n",
       "      <td>09/13/2010 12:00:00 AM</td>\n",
       "      <td>09/12/2010 12:00:00 AM</td>\n",
       "      <td>45</td>\n",
       "      <td>14</td>\n",
       "      <td>Pacific</td>\n",
       "      <td>1485</td>\n",
       "      <td>2</td>\n",
       "      <td>740</td>\n",
       "      <td>VANDALISM - FELONY ($400 &amp; OVER, ALL CHURCH VA...</td>\n",
       "      <td>...</td>\n",
       "      <td>IC</td>\n",
       "      <td>Invest Cont</td>\n",
       "      <td>740.0</td>\n",
       "      <td>NaN</td>\n",
       "      <td>NaN</td>\n",
       "      <td>NaN</td>\n",
       "      <td>SEPULVEDA                    BL</td>\n",
       "      <td>MANCHESTER                   AV</td>\n",
       "      <td>33.9599</td>\n",
       "      <td>-118.3962</td>\n",
       "    </tr>\n",
       "    <tr>\n",
       "      <th>2</th>\n",
       "      <td>70309629</td>\n",
       "      <td>08/09/2010 12:00:00 AM</td>\n",
       "      <td>08/09/2010 12:00:00 AM</td>\n",
       "      <td>1515</td>\n",
       "      <td>13</td>\n",
       "      <td>Newton</td>\n",
       "      <td>1324</td>\n",
       "      <td>2</td>\n",
       "      <td>946</td>\n",
       "      <td>OTHER MISCELLANEOUS CRIME</td>\n",
       "      <td>...</td>\n",
       "      <td>IC</td>\n",
       "      <td>Invest Cont</td>\n",
       "      <td>946.0</td>\n",
       "      <td>NaN</td>\n",
       "      <td>NaN</td>\n",
       "      <td>NaN</td>\n",
       "      <td>1300 E  21ST                         ST</td>\n",
       "      <td>NaN</td>\n",
       "      <td>34.0224</td>\n",
       "      <td>-118.2524</td>\n",
       "    </tr>\n",
       "    <tr>\n",
       "      <th>3</th>\n",
       "      <td>90631215</td>\n",
       "      <td>01/05/2010 12:00:00 AM</td>\n",
       "      <td>01/05/2010 12:00:00 AM</td>\n",
       "      <td>150</td>\n",
       "      <td>6</td>\n",
       "      <td>Hollywood</td>\n",
       "      <td>646</td>\n",
       "      <td>2</td>\n",
       "      <td>900</td>\n",
       "      <td>VIOLATION OF COURT ORDER</td>\n",
       "      <td>...</td>\n",
       "      <td>IC</td>\n",
       "      <td>Invest Cont</td>\n",
       "      <td>900.0</td>\n",
       "      <td>998.0</td>\n",
       "      <td>NaN</td>\n",
       "      <td>NaN</td>\n",
       "      <td>CAHUENGA                     BL</td>\n",
       "      <td>HOLLYWOOD                    BL</td>\n",
       "      <td>34.1016</td>\n",
       "      <td>-118.3295</td>\n",
       "    </tr>\n",
       "    <tr>\n",
       "      <th>4</th>\n",
       "      <td>100100501</td>\n",
       "      <td>01/03/2010 12:00:00 AM</td>\n",
       "      <td>01/02/2010 12:00:00 AM</td>\n",
       "      <td>2100</td>\n",
       "      <td>1</td>\n",
       "      <td>Central</td>\n",
       "      <td>176</td>\n",
       "      <td>1</td>\n",
       "      <td>122</td>\n",
       "      <td>RAPE, ATTEMPTED</td>\n",
       "      <td>...</td>\n",
       "      <td>IC</td>\n",
       "      <td>Invest Cont</td>\n",
       "      <td>122.0</td>\n",
       "      <td>NaN</td>\n",
       "      <td>NaN</td>\n",
       "      <td>NaN</td>\n",
       "      <td>8TH                          ST</td>\n",
       "      <td>SAN PEDRO                    ST</td>\n",
       "      <td>34.0387</td>\n",
       "      <td>-118.2488</td>\n",
       "    </tr>\n",
       "  </tbody>\n",
       "</table>\n",
       "<p>5 rows × 28 columns</p>\n",
       "</div>"
      ],
      "text/plain": [
       "       DR_NO               Date Rptd                DATE OCC  TIME OCC  AREA   \\\n",
       "0    1307355  02/20/2010 12:00:00 AM  02/20/2010 12:00:00 AM      1350     13   \n",
       "1   11401303  09/13/2010 12:00:00 AM  09/12/2010 12:00:00 AM        45     14   \n",
       "2   70309629  08/09/2010 12:00:00 AM  08/09/2010 12:00:00 AM      1515     13   \n",
       "3   90631215  01/05/2010 12:00:00 AM  01/05/2010 12:00:00 AM       150      6   \n",
       "4  100100501  01/03/2010 12:00:00 AM  01/02/2010 12:00:00 AM      2100      1   \n",
       "\n",
       "   AREA NAME  Rpt Dist No  Part 1-2  Crm Cd  \\\n",
       "0     Newton         1385         2     900   \n",
       "1    Pacific         1485         2     740   \n",
       "2     Newton         1324         2     946   \n",
       "3  Hollywood          646         2     900   \n",
       "4    Central          176         1     122   \n",
       "\n",
       "                                         Crm Cd Desc  ... Status  \\\n",
       "0                           VIOLATION OF COURT ORDER  ...     AA   \n",
       "1  VANDALISM - FELONY ($400 & OVER, ALL CHURCH VA...  ...     IC   \n",
       "2                          OTHER MISCELLANEOUS CRIME  ...     IC   \n",
       "3                           VIOLATION OF COURT ORDER  ...     IC   \n",
       "4                                    RAPE, ATTEMPTED  ...     IC   \n",
       "\n",
       "    Status Desc Crm Cd 1 Crm Cd 2  Crm Cd 3 Crm Cd 4  \\\n",
       "0  Adult Arrest    900.0      NaN       NaN      NaN   \n",
       "1   Invest Cont    740.0      NaN       NaN      NaN   \n",
       "2   Invest Cont    946.0      NaN       NaN      NaN   \n",
       "3   Invest Cont    900.0    998.0       NaN      NaN   \n",
       "4   Invest Cont    122.0      NaN       NaN      NaN   \n",
       "\n",
       "                                  LOCATION                     Cross Street  \\\n",
       "0   300 E  GAGE                         AV                              NaN   \n",
       "1          SEPULVEDA                    BL  MANCHESTER                   AV   \n",
       "2  1300 E  21ST                         ST                              NaN   \n",
       "3          CAHUENGA                     BL  HOLLYWOOD                    BL   \n",
       "4          8TH                          ST  SAN PEDRO                    ST   \n",
       "\n",
       "       LAT       LON  \n",
       "0  33.9825 -118.2695  \n",
       "1  33.9599 -118.3962  \n",
       "2  34.0224 -118.2524  \n",
       "3  34.1016 -118.3295  \n",
       "4  34.0387 -118.2488  \n",
       "\n",
       "[5 rows x 28 columns]"
      ]
     },
     "execution_count": 12,
     "metadata": {},
     "output_type": "execute_result"
    }
   ],
   "source": [
    "df.head()"
   ]
  },
  {
   "cell_type": "code",
   "execution_count": 13,
   "id": "cfe55a83",
   "metadata": {},
   "outputs": [],
   "source": [
    "pf.clean_columns_2(df)"
   ]
  },
  {
   "cell_type": "code",
   "execution_count": 14,
   "id": "150fc33b",
   "metadata": {
    "scrolled": true
   },
   "outputs": [
    {
     "data": {
      "text/plain": [
       "Index(['file_number', 'date_reported', 'date_occured', 'time_occured', 'area',\n",
       "       'crime_code', 'victim_age', 'victim_sex', 'victim_descent', 'premise',\n",
       "       'weapon', 'status', 'location', 'lat', 'lon'],\n",
       "      dtype='object')"
      ]
     },
     "execution_count": 14,
     "metadata": {},
     "output_type": "execute_result"
    }
   ],
   "source": [
    "df.columns"
   ]
  },
  {
   "cell_type": "code",
   "execution_count": 15,
   "id": "0d092cf3",
   "metadata": {
    "scrolled": true
   },
   "outputs": [
    {
     "data": {
      "text/plain": [
       "file_number             0\n",
       "date_reported           0\n",
       "date_occured            0\n",
       "time_occured            0\n",
       "area                    0\n",
       "crime_code              0\n",
       "victim_age              0\n",
       "victim_sex         196731\n",
       "victim_descent     196777\n",
       "premise               187\n",
       "weapon            1406209\n",
       "status                  0\n",
       "location                0\n",
       "lat                     0\n",
       "lon                     0\n",
       "dtype: int64"
      ]
     },
     "execution_count": 15,
     "metadata": {},
     "output_type": "execute_result"
    }
   ],
   "source": [
    "#We check if there are any null values.\n",
    "df.isna().sum()"
   ]
  },
  {
   "cell_type": "code",
   "execution_count": 16,
   "id": "f3ca4275",
   "metadata": {},
   "outputs": [],
   "source": [
    "#Now we'll start dealing with the nulls."
   ]
  },
  {
   "cell_type": "code",
   "execution_count": 17,
   "id": "917e3aed",
   "metadata": {
    "scrolled": true
   },
   "outputs": [
    {
     "data": {
      "text/plain": [
       "array(['H', 'W', 'B', 'A', 'O', 'X', 'K', nan, 'I', 'J', 'F', 'C', 'P',\n",
       "       'V', 'U', 'G', 'D', 'S', 'Z', 'L', '-'], dtype=object)"
      ]
     },
     "execution_count": 17,
     "metadata": {},
     "output_type": "execute_result"
    }
   ],
   "source": [
    "df[\"victim_descent\"].unique()"
   ]
  },
  {
   "cell_type": "code",
   "execution_count": 18,
   "id": "cd5a820d",
   "metadata": {},
   "outputs": [],
   "source": [
    "pf.descent_cleaning(df)"
   ]
  },
  {
   "cell_type": "code",
   "execution_count": 19,
   "id": "65f61f09",
   "metadata": {},
   "outputs": [
    {
     "data": {
      "text/plain": [
       "0"
      ]
     },
     "execution_count": 19,
     "metadata": {},
     "output_type": "execute_result"
    }
   ],
   "source": [
    "#We check to see if we treated the nulls correctly.\n",
    "df[\"victim_descent\"].isna().sum()"
   ]
  },
  {
   "cell_type": "code",
   "execution_count": 20,
   "id": "2771d385",
   "metadata": {
    "scrolled": true
   },
   "outputs": [
    {
     "data": {
      "text/plain": [
       "array(['hispanic', 'white', 'black', 'asian', 'other', 'not_specified',\n",
       "       'korean', 'american indian', 'japanese', 'filipino', 'chinese',\n",
       "       'pacific islander', 'vietnamese', 'hawaiian', 'guamanian',\n",
       "       'cambodian', 'samoan', 'asian indian', 'laotian'], dtype=object)"
      ]
     },
     "execution_count": 20,
     "metadata": {},
     "output_type": "execute_result"
    }
   ],
   "source": [
    "#We check to see if the renaming of the elements in the column worked.\n",
    "df[\"victim_descent\"].unique()"
   ]
  },
  {
   "cell_type": "code",
   "execution_count": 21,
   "id": "309aae4c",
   "metadata": {},
   "outputs": [
    {
     "data": {
      "text/plain": [
       "file_number             0\n",
       "date_reported           0\n",
       "date_occured            0\n",
       "time_occured            0\n",
       "area                    0\n",
       "crime_code              0\n",
       "victim_age              0\n",
       "victim_sex         196731\n",
       "victim_descent          0\n",
       "premise               187\n",
       "weapon            1406209\n",
       "status                  0\n",
       "location                0\n",
       "lat                     0\n",
       "lon                     0\n",
       "dtype: int64"
      ]
     },
     "execution_count": 21,
     "metadata": {},
     "output_type": "execute_result"
    }
   ],
   "source": [
    "#We're checking for nulls.\n",
    "df.isna().sum()"
   ]
  },
  {
   "cell_type": "code",
   "execution_count": 22,
   "id": "6f29d67a",
   "metadata": {},
   "outputs": [
    {
     "data": {
      "text/plain": [
       "victim_sex\n",
       "M    975294\n",
       "F    890255\n",
       "X     55218\n",
       "H        73\n",
       "N        17\n",
       "-         1\n",
       "Name: count, dtype: int64"
      ]
     },
     "execution_count": 22,
     "metadata": {},
     "output_type": "execute_result"
    }
   ],
   "source": [
    "#We're checking to see if there are hidden nulls.\n",
    "df[\"victim_sex\"].value_counts()"
   ]
  },
  {
   "cell_type": "code",
   "execution_count": 23,
   "id": "b20be6bf",
   "metadata": {},
   "outputs": [],
   "source": [
    "pf.sex_cleaning(df)"
   ]
  },
  {
   "cell_type": "code",
   "execution_count": 24,
   "id": "02ff5b65",
   "metadata": {},
   "outputs": [
    {
     "data": {
      "text/plain": [
       "victim_sex\n",
       "M                975294\n",
       "F                890255\n",
       "not_specified    252040\n",
       "Name: count, dtype: int64"
      ]
     },
     "execution_count": 24,
     "metadata": {},
     "output_type": "execute_result"
    }
   ],
   "source": [
    "#We check if it worked.\n",
    "df[\"victim_sex\"].value_counts()"
   ]
  },
  {
   "cell_type": "code",
   "execution_count": 25,
   "id": "bb62a316",
   "metadata": {},
   "outputs": [
    {
     "data": {
      "text/plain": [
       "file_number             0\n",
       "date_reported           0\n",
       "date_occured            0\n",
       "time_occured            0\n",
       "area                    0\n",
       "crime_code              0\n",
       "victim_age              0\n",
       "victim_sex              0\n",
       "victim_descent          0\n",
       "premise               187\n",
       "weapon            1406209\n",
       "status                  0\n",
       "location                0\n",
       "lat                     0\n",
       "lon                     0\n",
       "dtype: int64"
      ]
     },
     "execution_count": 25,
     "metadata": {},
     "output_type": "execute_result"
    }
   ],
   "source": [
    "#We check if we handled nulls correctly.\n",
    "df.isna().sum()"
   ]
  },
  {
   "cell_type": "code",
   "execution_count": 26,
   "id": "900a6709",
   "metadata": {},
   "outputs": [
    {
     "data": {
      "text/plain": [
       "0"
      ]
     },
     "execution_count": 26,
     "metadata": {},
     "output_type": "execute_result"
    }
   ],
   "source": [
    "#We're checking for nulls.\n",
    "df[\"victim_age\"].isna().sum()"
   ]
  },
  {
   "cell_type": "code",
   "execution_count": 27,
   "id": "4ae7ea57",
   "metadata": {},
   "outputs": [
    {
     "data": {
      "text/plain": [
       "victim_age\n",
       " 0      370038\n",
       " 25      48145\n",
       " 26      47508\n",
       " 27      47061\n",
       " 24      46798\n",
       "         ...  \n",
       "-9           8\n",
       "-10          1\n",
       "-11          1\n",
       " 114         1\n",
       " 118         1\n",
       "Name: count, Length: 112, dtype: int64"
      ]
     },
     "execution_count": 27,
     "metadata": {},
     "output_type": "execute_result"
    }
   ],
   "source": [
    "#We're checking to see if there are \"hidden\" nulls. Here, age=0 is considered a null.\n",
    "df[\"victim_age\"].value_counts()"
   ]
  },
  {
   "cell_type": "code",
   "execution_count": 28,
   "id": "578627c1",
   "metadata": {},
   "outputs": [],
   "source": [
    "pf.age_cleaning_2(df)"
   ]
  },
  {
   "cell_type": "code",
   "execution_count": 29,
   "id": "4d0dc1bb",
   "metadata": {},
   "outputs": [
    {
     "data": {
      "text/plain": [
       "victim_age\n",
       "0     370681\n",
       "25     48145\n",
       "26     47508\n",
       "27     47061\n",
       "24     46798\n",
       "       ...  \n",
       "94       330\n",
       "95       246\n",
       "96       190\n",
       "97       169\n",
       "98       118\n",
       "Name: count, Length: 99, dtype: int64"
      ]
     },
     "execution_count": 29,
     "metadata": {},
     "output_type": "execute_result"
    }
   ],
   "source": [
    "#We check if it worked.\n",
    "df[\"victim_age\"].value_counts()"
   ]
  },
  {
   "cell_type": "code",
   "execution_count": 30,
   "id": "c88301f8",
   "metadata": {},
   "outputs": [],
   "source": [
    "pf.premise_cleaning(df)"
   ]
  },
  {
   "cell_type": "code",
   "execution_count": 31,
   "id": "fe56de33",
   "metadata": {},
   "outputs": [
    {
     "data": {
      "text/plain": [
       "file_number             0\n",
       "date_reported           0\n",
       "date_occured            0\n",
       "time_occured            0\n",
       "area                    0\n",
       "crime_code              0\n",
       "victim_age              0\n",
       "victim_sex              0\n",
       "victim_descent          0\n",
       "premise                 0\n",
       "weapon            1406070\n",
       "status                  0\n",
       "location                0\n",
       "lat                     0\n",
       "lon                     0\n",
       "dtype: int64"
      ]
     },
     "execution_count": 31,
     "metadata": {},
     "output_type": "execute_result"
    }
   ],
   "source": [
    "df.isna().sum()"
   ]
  },
  {
   "cell_type": "code",
   "execution_count": 32,
   "id": "f1cf3633",
   "metadata": {},
   "outputs": [
    {
     "data": {
      "text/plain": [
       "1406070"
      ]
     },
     "execution_count": 32,
     "metadata": {},
     "output_type": "execute_result"
    }
   ],
   "source": [
    "#We check for nulls \n",
    "df[\"weapon\"].isna().sum()"
   ]
  },
  {
   "cell_type": "code",
   "execution_count": 33,
   "id": "6b1c342f",
   "metadata": {},
   "outputs": [],
   "source": [
    "pf.weapon_cleaning(df)"
   ]
  },
  {
   "cell_type": "code",
   "execution_count": 34,
   "id": "892ac733",
   "metadata": {},
   "outputs": [
    {
     "data": {
      "text/plain": [
       "0"
      ]
     },
     "execution_count": 34,
     "metadata": {},
     "output_type": "execute_result"
    }
   ],
   "source": [
    "#We check if it works.\n",
    "df[\"weapon\"].isna().sum()"
   ]
  },
  {
   "cell_type": "code",
   "execution_count": 35,
   "id": "aa051360",
   "metadata": {},
   "outputs": [],
   "source": [
    "#Now we're going to clean the date and time."
   ]
  },
  {
   "cell_type": "code",
   "execution_count": 36,
   "id": "a1ed25cc",
   "metadata": {},
   "outputs": [
    {
     "data": {
      "text/html": [
       "<div>\n",
       "<style scoped>\n",
       "    .dataframe tbody tr th:only-of-type {\n",
       "        vertical-align: middle;\n",
       "    }\n",
       "\n",
       "    .dataframe tbody tr th {\n",
       "        vertical-align: top;\n",
       "    }\n",
       "\n",
       "    .dataframe thead th {\n",
       "        text-align: right;\n",
       "    }\n",
       "</style>\n",
       "<table border=\"1\" class=\"dataframe\">\n",
       "  <thead>\n",
       "    <tr style=\"text-align: right;\">\n",
       "      <th></th>\n",
       "      <th>file_number</th>\n",
       "      <th>date_reported</th>\n",
       "      <th>date_occured</th>\n",
       "      <th>time_occured</th>\n",
       "      <th>area</th>\n",
       "      <th>crime_code</th>\n",
       "      <th>victim_age</th>\n",
       "      <th>victim_sex</th>\n",
       "      <th>victim_descent</th>\n",
       "      <th>premise</th>\n",
       "      <th>weapon</th>\n",
       "      <th>status</th>\n",
       "      <th>location</th>\n",
       "      <th>lat</th>\n",
       "      <th>lon</th>\n",
       "    </tr>\n",
       "  </thead>\n",
       "  <tbody>\n",
       "    <tr>\n",
       "      <th>0</th>\n",
       "      <td>1307355</td>\n",
       "      <td>02/20/2010 12:00:00 AM</td>\n",
       "      <td>02/20/2010 12:00:00 AM</td>\n",
       "      <td>1350</td>\n",
       "      <td>Newton</td>\n",
       "      <td>VIOLATION OF COURT ORDER</td>\n",
       "      <td>48</td>\n",
       "      <td>M</td>\n",
       "      <td>hispanic</td>\n",
       "      <td>SINGLE FAMILY DWELLING</td>\n",
       "      <td>not_specified</td>\n",
       "      <td>Adult Arrest</td>\n",
       "      <td>300 E  GAGE                         AV</td>\n",
       "      <td>33.9825</td>\n",
       "      <td>-118.2695</td>\n",
       "    </tr>\n",
       "    <tr>\n",
       "      <th>1</th>\n",
       "      <td>11401303</td>\n",
       "      <td>09/13/2010 12:00:00 AM</td>\n",
       "      <td>09/12/2010 12:00:00 AM</td>\n",
       "      <td>45</td>\n",
       "      <td>Pacific</td>\n",
       "      <td>VANDALISM - FELONY ($400 &amp; OVER, ALL CHURCH VA...</td>\n",
       "      <td>0</td>\n",
       "      <td>M</td>\n",
       "      <td>white</td>\n",
       "      <td>STREET</td>\n",
       "      <td>not_specified</td>\n",
       "      <td>Invest Cont</td>\n",
       "      <td>SEPULVEDA                    BL</td>\n",
       "      <td>33.9599</td>\n",
       "      <td>-118.3962</td>\n",
       "    </tr>\n",
       "    <tr>\n",
       "      <th>2</th>\n",
       "      <td>70309629</td>\n",
       "      <td>08/09/2010 12:00:00 AM</td>\n",
       "      <td>08/09/2010 12:00:00 AM</td>\n",
       "      <td>1515</td>\n",
       "      <td>Newton</td>\n",
       "      <td>OTHER MISCELLANEOUS CRIME</td>\n",
       "      <td>0</td>\n",
       "      <td>M</td>\n",
       "      <td>hispanic</td>\n",
       "      <td>ALLEY</td>\n",
       "      <td>not_specified</td>\n",
       "      <td>Invest Cont</td>\n",
       "      <td>1300 E  21ST                         ST</td>\n",
       "      <td>34.0224</td>\n",
       "      <td>-118.2524</td>\n",
       "    </tr>\n",
       "    <tr>\n",
       "      <th>3</th>\n",
       "      <td>90631215</td>\n",
       "      <td>01/05/2010 12:00:00 AM</td>\n",
       "      <td>01/05/2010 12:00:00 AM</td>\n",
       "      <td>150</td>\n",
       "      <td>Hollywood</td>\n",
       "      <td>VIOLATION OF COURT ORDER</td>\n",
       "      <td>47</td>\n",
       "      <td>F</td>\n",
       "      <td>white</td>\n",
       "      <td>STREET</td>\n",
       "      <td>HAND GUN</td>\n",
       "      <td>Invest Cont</td>\n",
       "      <td>CAHUENGA                     BL</td>\n",
       "      <td>34.1016</td>\n",
       "      <td>-118.3295</td>\n",
       "    </tr>\n",
       "    <tr>\n",
       "      <th>4</th>\n",
       "      <td>100100501</td>\n",
       "      <td>01/03/2010 12:00:00 AM</td>\n",
       "      <td>01/02/2010 12:00:00 AM</td>\n",
       "      <td>2100</td>\n",
       "      <td>Central</td>\n",
       "      <td>RAPE, ATTEMPTED</td>\n",
       "      <td>47</td>\n",
       "      <td>F</td>\n",
       "      <td>hispanic</td>\n",
       "      <td>ALLEY</td>\n",
       "      <td>STRONG-ARM (HANDS, FIST, FEET OR BODILY FORCE)</td>\n",
       "      <td>Invest Cont</td>\n",
       "      <td>8TH                          ST</td>\n",
       "      <td>34.0387</td>\n",
       "      <td>-118.2488</td>\n",
       "    </tr>\n",
       "  </tbody>\n",
       "</table>\n",
       "</div>"
      ],
      "text/plain": [
       "   file_number           date_reported            date_occured  time_occured  \\\n",
       "0      1307355  02/20/2010 12:00:00 AM  02/20/2010 12:00:00 AM          1350   \n",
       "1     11401303  09/13/2010 12:00:00 AM  09/12/2010 12:00:00 AM            45   \n",
       "2     70309629  08/09/2010 12:00:00 AM  08/09/2010 12:00:00 AM          1515   \n",
       "3     90631215  01/05/2010 12:00:00 AM  01/05/2010 12:00:00 AM           150   \n",
       "4    100100501  01/03/2010 12:00:00 AM  01/02/2010 12:00:00 AM          2100   \n",
       "\n",
       "        area                                         crime_code  victim_age  \\\n",
       "0     Newton                           VIOLATION OF COURT ORDER          48   \n",
       "1    Pacific  VANDALISM - FELONY ($400 & OVER, ALL CHURCH VA...           0   \n",
       "2     Newton                          OTHER MISCELLANEOUS CRIME           0   \n",
       "3  Hollywood                           VIOLATION OF COURT ORDER          47   \n",
       "4    Central                                    RAPE, ATTEMPTED          47   \n",
       "\n",
       "  victim_sex victim_descent                 premise  \\\n",
       "0          M       hispanic  SINGLE FAMILY DWELLING   \n",
       "1          M          white                  STREET   \n",
       "2          M       hispanic                   ALLEY   \n",
       "3          F          white                  STREET   \n",
       "4          F       hispanic                   ALLEY   \n",
       "\n",
       "                                           weapon        status  \\\n",
       "0                                   not_specified  Adult Arrest   \n",
       "1                                   not_specified   Invest Cont   \n",
       "2                                   not_specified   Invest Cont   \n",
       "3                                        HAND GUN   Invest Cont   \n",
       "4  STRONG-ARM (HANDS, FIST, FEET OR BODILY FORCE)   Invest Cont   \n",
       "\n",
       "                                  location      lat       lon  \n",
       "0   300 E  GAGE                         AV  33.9825 -118.2695  \n",
       "1          SEPULVEDA                    BL  33.9599 -118.3962  \n",
       "2  1300 E  21ST                         ST  34.0224 -118.2524  \n",
       "3          CAHUENGA                     BL  34.1016 -118.3295  \n",
       "4          8TH                          ST  34.0387 -118.2488  "
      ]
     },
     "execution_count": 36,
     "metadata": {},
     "output_type": "execute_result"
    }
   ],
   "source": [
    "df.head()"
   ]
  },
  {
   "cell_type": "code",
   "execution_count": 37,
   "id": "8e0490b2",
   "metadata": {},
   "outputs": [
    {
     "name": "stderr",
     "output_type": "stream",
     "text": [
      "C:\\Users\\diego\\Documents\\IRONHACK\\DATA_ANALYTICS\\WEEK_3\\PROJECT\\project_functions.py:154: UserWarning: Could not infer format, so each element will be parsed individually, falling back to `dateutil`. To ensure parsing is consistent and as-expected, please specify a format.\n",
      "  df.loc[:, 'date_reported'] = pd.to_datetime(df['date_reported'], errors = \"coerce\").dt.date\n",
      "C:\\Users\\diego\\Documents\\IRONHACK\\DATA_ANALYTICS\\WEEK_3\\PROJECT\\project_functions.py:162: UserWarning: Could not infer format, so each element will be parsed individually, falling back to `dateutil`. To ensure parsing is consistent and as-expected, please specify a format.\n",
      "  df.loc[:, 'date_occured'] = pd.to_datetime(df['date_occured'], errors = \"coerce\").dt.date\n"
     ]
    }
   ],
   "source": [
    "pf.date_cleaning(df)"
   ]
  },
  {
   "cell_type": "code",
   "execution_count": 38,
   "id": "a620647e",
   "metadata": {},
   "outputs": [
    {
     "data": {
      "text/html": [
       "<div>\n",
       "<style scoped>\n",
       "    .dataframe tbody tr th:only-of-type {\n",
       "        vertical-align: middle;\n",
       "    }\n",
       "\n",
       "    .dataframe tbody tr th {\n",
       "        vertical-align: top;\n",
       "    }\n",
       "\n",
       "    .dataframe thead th {\n",
       "        text-align: right;\n",
       "    }\n",
       "</style>\n",
       "<table border=\"1\" class=\"dataframe\">\n",
       "  <thead>\n",
       "    <tr style=\"text-align: right;\">\n",
       "      <th></th>\n",
       "      <th>file_number</th>\n",
       "      <th>date_reported</th>\n",
       "      <th>date_occured</th>\n",
       "      <th>time_occured</th>\n",
       "      <th>area</th>\n",
       "      <th>crime_code</th>\n",
       "      <th>victim_age</th>\n",
       "      <th>victim_sex</th>\n",
       "      <th>victim_descent</th>\n",
       "      <th>premise</th>\n",
       "      <th>...</th>\n",
       "      <th>status</th>\n",
       "      <th>location</th>\n",
       "      <th>lat</th>\n",
       "      <th>lon</th>\n",
       "      <th>dr_year</th>\n",
       "      <th>dr_month</th>\n",
       "      <th>dr_day</th>\n",
       "      <th>do_year</th>\n",
       "      <th>do_month</th>\n",
       "      <th>do_day</th>\n",
       "    </tr>\n",
       "  </thead>\n",
       "  <tbody>\n",
       "    <tr>\n",
       "      <th>0</th>\n",
       "      <td>1307355</td>\n",
       "      <td>2010-02-20</td>\n",
       "      <td>2010-02-20</td>\n",
       "      <td>13:50</td>\n",
       "      <td>Newton</td>\n",
       "      <td>VIOLATION OF COURT ORDER</td>\n",
       "      <td>48</td>\n",
       "      <td>M</td>\n",
       "      <td>hispanic</td>\n",
       "      <td>SINGLE FAMILY DWELLING</td>\n",
       "      <td>...</td>\n",
       "      <td>Adult Arrest</td>\n",
       "      <td>300 E  GAGE                         AV</td>\n",
       "      <td>33.9825</td>\n",
       "      <td>-118.2695</td>\n",
       "      <td>2010</td>\n",
       "      <td>2</td>\n",
       "      <td>20</td>\n",
       "      <td>2010</td>\n",
       "      <td>2</td>\n",
       "      <td>20</td>\n",
       "    </tr>\n",
       "    <tr>\n",
       "      <th>1</th>\n",
       "      <td>11401303</td>\n",
       "      <td>2010-09-13</td>\n",
       "      <td>2010-09-12</td>\n",
       "      <td>00:45</td>\n",
       "      <td>Pacific</td>\n",
       "      <td>VANDALISM - FELONY ($400 &amp; OVER, ALL CHURCH VA...</td>\n",
       "      <td>0</td>\n",
       "      <td>M</td>\n",
       "      <td>white</td>\n",
       "      <td>STREET</td>\n",
       "      <td>...</td>\n",
       "      <td>Invest Cont</td>\n",
       "      <td>SEPULVEDA                    BL</td>\n",
       "      <td>33.9599</td>\n",
       "      <td>-118.3962</td>\n",
       "      <td>2010</td>\n",
       "      <td>9</td>\n",
       "      <td>13</td>\n",
       "      <td>2010</td>\n",
       "      <td>9</td>\n",
       "      <td>12</td>\n",
       "    </tr>\n",
       "    <tr>\n",
       "      <th>2</th>\n",
       "      <td>70309629</td>\n",
       "      <td>2010-08-09</td>\n",
       "      <td>2010-08-09</td>\n",
       "      <td>15:15</td>\n",
       "      <td>Newton</td>\n",
       "      <td>OTHER MISCELLANEOUS CRIME</td>\n",
       "      <td>0</td>\n",
       "      <td>M</td>\n",
       "      <td>hispanic</td>\n",
       "      <td>ALLEY</td>\n",
       "      <td>...</td>\n",
       "      <td>Invest Cont</td>\n",
       "      <td>1300 E  21ST                         ST</td>\n",
       "      <td>34.0224</td>\n",
       "      <td>-118.2524</td>\n",
       "      <td>2010</td>\n",
       "      <td>8</td>\n",
       "      <td>9</td>\n",
       "      <td>2010</td>\n",
       "      <td>8</td>\n",
       "      <td>9</td>\n",
       "    </tr>\n",
       "    <tr>\n",
       "      <th>3</th>\n",
       "      <td>90631215</td>\n",
       "      <td>2010-01-05</td>\n",
       "      <td>2010-01-05</td>\n",
       "      <td>01:50</td>\n",
       "      <td>Hollywood</td>\n",
       "      <td>VIOLATION OF COURT ORDER</td>\n",
       "      <td>47</td>\n",
       "      <td>F</td>\n",
       "      <td>white</td>\n",
       "      <td>STREET</td>\n",
       "      <td>...</td>\n",
       "      <td>Invest Cont</td>\n",
       "      <td>CAHUENGA                     BL</td>\n",
       "      <td>34.1016</td>\n",
       "      <td>-118.3295</td>\n",
       "      <td>2010</td>\n",
       "      <td>1</td>\n",
       "      <td>5</td>\n",
       "      <td>2010</td>\n",
       "      <td>1</td>\n",
       "      <td>5</td>\n",
       "    </tr>\n",
       "    <tr>\n",
       "      <th>4</th>\n",
       "      <td>100100501</td>\n",
       "      <td>2010-01-03</td>\n",
       "      <td>2010-01-02</td>\n",
       "      <td>21:00</td>\n",
       "      <td>Central</td>\n",
       "      <td>RAPE, ATTEMPTED</td>\n",
       "      <td>47</td>\n",
       "      <td>F</td>\n",
       "      <td>hispanic</td>\n",
       "      <td>ALLEY</td>\n",
       "      <td>...</td>\n",
       "      <td>Invest Cont</td>\n",
       "      <td>8TH                          ST</td>\n",
       "      <td>34.0387</td>\n",
       "      <td>-118.2488</td>\n",
       "      <td>2010</td>\n",
       "      <td>1</td>\n",
       "      <td>3</td>\n",
       "      <td>2010</td>\n",
       "      <td>1</td>\n",
       "      <td>2</td>\n",
       "    </tr>\n",
       "  </tbody>\n",
       "</table>\n",
       "<p>5 rows × 21 columns</p>\n",
       "</div>"
      ],
      "text/plain": [
       "   file_number date_reported date_occured time_occured       area  \\\n",
       "0      1307355    2010-02-20   2010-02-20        13:50     Newton   \n",
       "1     11401303    2010-09-13   2010-09-12        00:45    Pacific   \n",
       "2     70309629    2010-08-09   2010-08-09        15:15     Newton   \n",
       "3     90631215    2010-01-05   2010-01-05        01:50  Hollywood   \n",
       "4    100100501    2010-01-03   2010-01-02        21:00    Central   \n",
       "\n",
       "                                          crime_code  victim_age victim_sex  \\\n",
       "0                           VIOLATION OF COURT ORDER          48          M   \n",
       "1  VANDALISM - FELONY ($400 & OVER, ALL CHURCH VA...           0          M   \n",
       "2                          OTHER MISCELLANEOUS CRIME           0          M   \n",
       "3                           VIOLATION OF COURT ORDER          47          F   \n",
       "4                                    RAPE, ATTEMPTED          47          F   \n",
       "\n",
       "  victim_descent                 premise  ...        status  \\\n",
       "0       hispanic  SINGLE FAMILY DWELLING  ...  Adult Arrest   \n",
       "1          white                  STREET  ...   Invest Cont   \n",
       "2       hispanic                   ALLEY  ...   Invest Cont   \n",
       "3          white                  STREET  ...   Invest Cont   \n",
       "4       hispanic                   ALLEY  ...   Invest Cont   \n",
       "\n",
       "                                  location      lat       lon  dr_year  \\\n",
       "0   300 E  GAGE                         AV  33.9825 -118.2695     2010   \n",
       "1          SEPULVEDA                    BL  33.9599 -118.3962     2010   \n",
       "2  1300 E  21ST                         ST  34.0224 -118.2524     2010   \n",
       "3          CAHUENGA                     BL  34.1016 -118.3295     2010   \n",
       "4          8TH                          ST  34.0387 -118.2488     2010   \n",
       "\n",
       "   dr_month  dr_day  do_year  do_month  do_day  \n",
       "0         2      20     2010         2      20  \n",
       "1         9      13     2010         9      12  \n",
       "2         8       9     2010         8       9  \n",
       "3         1       5     2010         1       5  \n",
       "4         1       3     2010         1       2  \n",
       "\n",
       "[5 rows x 21 columns]"
      ]
     },
     "execution_count": 38,
     "metadata": {},
     "output_type": "execute_result"
    }
   ],
   "source": [
    "df.head()"
   ]
  },
  {
   "cell_type": "code",
   "execution_count": 39,
   "id": "c6ac6017",
   "metadata": {},
   "outputs": [
    {
     "data": {
      "text/plain": [
       "file_number                int64\n",
       "date_reported     datetime64[ns]\n",
       "date_occured      datetime64[ns]\n",
       "time_occured              object\n",
       "area                      object\n",
       "crime_code                object\n",
       "victim_age                 int64\n",
       "victim_sex                object\n",
       "victim_descent            object\n",
       "premise                   object\n",
       "weapon                    object\n",
       "status                    object\n",
       "location                  object\n",
       "lat                      float64\n",
       "lon                      float64\n",
       "dr_year                    int32\n",
       "dr_month                   int32\n",
       "dr_day                     int32\n",
       "do_year                    int32\n",
       "do_month                   int32\n",
       "do_day                     int32\n",
       "dtype: object"
      ]
     },
     "execution_count": 39,
     "metadata": {},
     "output_type": "execute_result"
    }
   ],
   "source": [
    "df.dtypes"
   ]
  },
  {
   "cell_type": "code",
   "execution_count": 40,
   "id": "922b2835",
   "metadata": {},
   "outputs": [],
   "source": [
    "#We only want to keep crimes commited since 2017.\n",
    "df = df[df[\"date_occured\"].dt.year >= 2017]"
   ]
  },
  {
   "cell_type": "code",
   "execution_count": 41,
   "id": "b428e317",
   "metadata": {},
   "outputs": [
    {
     "data": {
      "text/plain": [
       "(677117, 21)"
      ]
     },
     "execution_count": 41,
     "metadata": {},
     "output_type": "execute_result"
    }
   ],
   "source": [
    "df.shape"
   ]
  },
  {
   "cell_type": "code",
   "execution_count": 42,
   "id": "b206987b",
   "metadata": {},
   "outputs": [],
   "source": [
    "#NOW WE HAVE A CLEANED DF. NOW WE CAN START WORKING WITH IT."
   ]
  },
  {
   "cell_type": "code",
   "execution_count": 43,
   "id": "3b446733",
   "metadata": {},
   "outputs": [],
   "source": [
    "#First, we're going to create \"categories\" for the weapons, crime_code and premise."
   ]
  },
  {
   "cell_type": "code",
   "execution_count": 44,
   "id": "18de085a",
   "metadata": {},
   "outputs": [
    {
     "data": {
      "text/plain": [
       "array(['not_specified', 'STRONG-ARM (HANDS, FIST, FEET OR BODILY FORCE)',\n",
       "       'HAND GUN', 'VERBAL THREAT', 'MACE/PEPPER SPRAY',\n",
       "       'CAUSTIC CHEMICAL/POISON', 'UNKNOWN WEAPON/OTHER WEAPON',\n",
       "       'ROCK/THROWN OBJECT', 'KNIFE WITH BLADE 6INCHES OR LESS',\n",
       "       'REVOLVER', 'CLUB/BAT', 'AIR PISTOL/REVOLVER/RIFLE/BB GUN',\n",
       "       'FIXED OBJECT', 'SEMI-AUTOMATIC PISTOL', 'SIMULATED GUN',\n",
       "       'UNKNOWN FIREARM', 'OTHER KNIFE', 'FOLDING KNIFE', 'MACHETE',\n",
       "       'KNIFE WITH BLADE OVER 6 INCHES IN LENGTH', 'HAMMER',\n",
       "       'SCALDING LIQUID', 'VEHICLE', 'SCREWDRIVER', 'STICK',\n",
       "       'BLUNT INSTRUMENT', 'TIRE IRON', 'PHYSICAL PRESENCE',\n",
       "       'KITCHEN KNIFE', 'BOTTLE', 'DIRK/DAGGER', 'SCISSORS', 'FIRE',\n",
       "       'AXE', 'GLASS', 'BELT FLAILING INSTRUMENT/CHAIN',\n",
       "       'UNKNOWN TYPE CUTTING INSTRUMENT', 'PIPE/METAL PIPE',\n",
       "       'OTHER CUTTING INSTRUMENT', 'CONCRETE BLOCK/BRICK', 'RAZOR',\n",
       "       'STUN GUN', 'DEMAND NOTE', 'RIFLE', 'BOARD', 'TOY GUN', 'SHOTGUN',\n",
       "       'SEMI-AUTOMATIC RIFLE', 'STARTER PISTOL/REVOLVER', 'OTHER FIREARM',\n",
       "       'SWORD', 'STRAIGHT RAZOR',\n",
       "       'HECKLER & KOCH 93 SEMIAUTOMATIC ASSAULT RIFLE', 'ICE PICK',\n",
       "       'BOMB THREAT', 'SYRINGE', 'EXPLOXIVE DEVICE', 'SWITCH BLADE',\n",
       "       'CLEAVER', 'RAZOR BLADE', 'DOG/ANIMAL (SIC ANIMAL ON)',\n",
       "       'BRASS KNUCKLES', 'ROPE/LIGATURE', 'ASSAULT WEAPON/UZI/AK47/ETC',\n",
       "       'AUTOMATIC WEAPON/SUB-MACHINE GUN', 'BLACKJACK',\n",
       "       'MARTIAL ARTS WEAPONS', 'SAWED OFF RIFLE/SHOTGUN', 'LIQUOR/DRUGS',\n",
       "       'BOWIE KNIFE', 'UNK TYPE SEMIAUTOMATIC ASSAULT RIFLE',\n",
       "       'MAC-10 SEMIAUTOMATIC ASSAULT WEAPON', 'RELIC FIREARM',\n",
       "       'M1-1 SEMIAUTOMATIC ASSAULT RIFLE',\n",
       "       'UZI SEMIAUTOMATIC ASSAULT RIFLE', 'ANTIQUE FIREARM',\n",
       "       'MAC-11 SEMIAUTOMATIC ASSAULT WEAPON', 'BOW AND ARROW',\n",
       "       'HECKLER & KOCH 91 SEMIAUTOMATIC ASSAULT RIFLE'], dtype=object)"
      ]
     },
     "execution_count": 44,
     "metadata": {},
     "output_type": "execute_result"
    }
   ],
   "source": [
    "#We check the unique values for weapon.\n",
    "df[\"weapon\"].unique()"
   ]
  },
  {
   "cell_type": "code",
   "execution_count": 45,
   "id": "564dd7dd",
   "metadata": {},
   "outputs": [
    {
     "name": "stdout",
     "output_type": "stream",
     "text": [
      "                                                 weapon   weapon_class\n",
      "1380330                                   not_specified  not_specified\n",
      "1380666                                   not_specified  not_specified\n",
      "1380780                                   not_specified  not_specified\n",
      "1380836                                   not_specified  not_specified\n",
      "1380864                                   not_specified  not_specified\n",
      "...                                                 ...            ...\n",
      "2117584                                            FIRE          other\n",
      "2117585                                   not_specified  not_specified\n",
      "2117586  STRONG-ARM (HANDS, FIST, FEET OR BODILY FORCE)     bare_hands\n",
      "2117587                                   not_specified  not_specified\n",
      "2117588                                   not_specified  not_specified\n",
      "\n",
      "[677117 rows x 2 columns]\n"
     ]
    }
   ],
   "source": [
    "#We call a function to group weapons by class.\n",
    "df.loc[:, 'weapon_class'] = df['weapon'].apply(pf.weapon_class)\n",
    "# Display the updated DataFrame\n",
    "print(df[['weapon', 'weapon_class']])"
   ]
  },
  {
   "cell_type": "code",
   "execution_count": 46,
   "id": "d8e1e4d4",
   "metadata": {},
   "outputs": [
    {
     "data": {
      "text/plain": [
       "weapon_class\n",
       "not_specified    465493\n",
       "bare_hands       151085\n",
       "other             31003\n",
       "blade             14436\n",
       "blunt_weapon       7213\n",
       "rifle              4159\n",
       "handgun            2628\n",
       "long_blade          773\n",
       "shotgun             327\n",
       "Name: count, dtype: int64"
      ]
     },
     "execution_count": 46,
     "metadata": {},
     "output_type": "execute_result"
    }
   ],
   "source": [
    "#We check to see the value counts for each weapons class.\n",
    "df[\"weapon_class\"].value_counts()"
   ]
  },
  {
   "cell_type": "code",
   "execution_count": 47,
   "id": "945345c6",
   "metadata": {},
   "outputs": [
    {
     "data": {
      "text/plain": [
       "array(['VEHICLE - STOLEN', 'BURGLARY', 'THEFT, PERSON',\n",
       "       'VIOLATION OF COURT ORDER',\n",
       "       'ASSAULT WITH DEADLY WEAPON, AGGRAVATED ASSAULT',\n",
       "       'BRANDISH WEAPON', 'THEFT PLAIN - PETTY ($950 & UNDER)',\n",
       "       'BURGLARY FROM VEHICLE', 'BATTERY - SIMPLE ASSAULT',\n",
       "       'RAPE, FORCIBLE', 'CRIMINAL THREATS - NO WEAPON DISPLAYED',\n",
       "       'THEFT OF IDENTITY',\n",
       "       'VANDALISM - FELONY ($400 & OVER, ALL CHURCH VANDALISMS)',\n",
       "       'DOCUMENT FORGERY / STOLEN FELONY',\n",
       "       'INTIMATE PARTNER - SIMPLE ASSAULT',\n",
       "       'THEFT FROM MOTOR VEHICLE - PETTY ($950 & UNDER)',\n",
       "       'ATTEMPTED ROBBERY', 'BIKE - STOLEN', 'OTHER MISCELLANEOUS CRIME',\n",
       "       'EMBEZZLEMENT, GRAND THEFT ($950.01 & OVER)',\n",
       "       'THEFT-GRAND ($950.01 & OVER)EXCPT,GUNS,FOWL,LIVESTK,PROD',\n",
       "       'ROBBERY', 'TRESPASSING', 'VIOLATION OF RESTRAINING ORDER',\n",
       "       'OTHER ASSAULT', 'THROWING OBJECT AT MOVING VEHICLE',\n",
       "       'VANDALISM - MISDEAMEANOR ($399 OR UNDER)',\n",
       "       'THEFT FROM MOTOR VEHICLE - GRAND ($400 AND OVER)',\n",
       "       'INTIMATE PARTNER - AGGRAVATED ASSAULT', 'BUNCO, GRAND THEFT',\n",
       "       'CRM AGNST CHLD (13 OR UNDER) (14-15 & SUSP 10 YRS OLDER)',\n",
       "       'SHOPLIFTING - PETTY THEFT ($950 & UNDER)',\n",
       "       'VIOLATION OF TEMPORARY RESTRAINING ORDER',\n",
       "       'BATTERY WITH SEXUAL CONTACT',\n",
       "       'EMBEZZLEMENT, PETTY THEFT ($950 & UNDER)',\n",
       "       'CREDIT CARDS, FRAUD USE ($950.01 & OVER)',\n",
       "       'DISCHARGE FIREARMS/SHOTS FIRED', 'BUNCO, PETTY THEFT',\n",
       "       'LETTERS, LEWD  -  TELEPHONE CALLS, LEWD', 'BURGLARY, ATTEMPTED',\n",
       "       'ORAL COPULATION', 'UNAUTHORIZED COMPUTER ACCESS', 'EXTORTION',\n",
       "       'SEXUAL PENETRATION W/FOREIGN OBJECT',\n",
       "       'SHOPLIFTING-GRAND THEFT ($950.01 & OVER)',\n",
       "       'CHILD ANNOYING (17YRS & UNDER)', 'BOMB SCARE',\n",
       "       'THEFT, COIN MACHINE - GRAND ($950.01 & OVER)',\n",
       "       'SHOTS FIRED AT INHABITED DWELLING',\n",
       "       'THREATENING PHONE CALLS/LETTERS', 'DISTURBING THE PEACE',\n",
       "       'PIMPING', 'FALSE IMPRISONMENT',\n",
       "       'THEFT, COIN MACHINE - PETTY ($950 & UNDER)',\n",
       "       'VEHICLE - ATTEMPT STOLEN',\n",
       "       'SEX,UNLAWFUL(INC MUTUAL CONSENT, PENETRATION W/ FRGN OBJ',\n",
       "       'CHILD STEALING', 'CHILD NEGLECT (SEE 300 W.I.C.)',\n",
       "       'CHILD ABUSE (PHYSICAL) - SIMPLE ASSAULT', 'RESISTING ARREST',\n",
       "       'CONTEMPT OF COURT', 'INDECENT EXPOSURE',\n",
       "       'BATTERY POLICE (SIMPLE)', 'STALKING',\n",
       "       'DEFRAUDING INNKEEPER/THEFT OF SERVICES, $400 & UNDER',\n",
       "       'ASSAULT WITH DEADLY WEAPON ON POLICE OFFICER',\n",
       "       'CHILD PORNOGRAPHY', 'HUMAN TRAFFICKING - COMMERCIAL SEX ACTS',\n",
       "       'PEEPING TOM', 'PROWLER', 'FAILURE TO YIELD',\n",
       "       'SEX OFFENDER REGISTRANT OUT OF COMPLIANCE', 'LEWD CONDUCT',\n",
       "       'LEWD/LASCIVIOUS ACTS WITH CHILD', 'THEFT PLAIN - ATTEMPT',\n",
       "       'KIDNAPPING', 'BUNCO, ATTEMPT', 'RAPE, ATTEMPTED', 'PANDERING',\n",
       "       'CRIMINAL HOMICIDE', 'PICKPOCKET', 'KIDNAPPING - GRAND ATTEMPT',\n",
       "       'BURGLARY FROM VEHICLE, ATTEMPTED', 'SHOPLIFTING - ATTEMPT',\n",
       "       'CHILD ABUSE (PHYSICAL) - AGGRAVATED ASSAULT',\n",
       "       'SHOTS FIRED AT MOVING VEHICLE, TRAIN OR AIRCRAFT',\n",
       "       'DRIVING WITHOUT OWNER CONSENT (DWOC)', 'ARSON', 'BOAT - STOLEN',\n",
       "       'PURSE SNATCHING', 'CREDIT CARDS, FRAUD USE ($950 & UNDER',\n",
       "       'SODOMY/SEXUAL CONTACT B/W PENIS OF ONE PERS TO ANUS OTH',\n",
       "       'CONTRIBUTING', 'THEFT FROM MOTOR VEHICLE - ATTEMPT',\n",
       "       'CRUELTY TO ANIMALS', 'COUNTERFEIT',\n",
       "       'DOCUMENT WORTHLESS ($200.01 & OVER)',\n",
       "       'WEAPONS POSSESSION/BOMBING', 'DISHONEST EMPLOYEE - GRAND THEFT',\n",
       "       'HUMAN TRAFFICKING - INVOLUNTARY SERVITUDE', 'PICKPOCKET, ATTEMPT',\n",
       "       'FALSE POLICE REPORT', 'DRUGS, TO A MINOR',\n",
       "       'PURSE SNATCHING - ATTEMPT', 'CONSPIRACY',\n",
       "       'THEFT FROM PERSON - ATTEMPT', 'RECKLESS DRIVING',\n",
       "       'DEFRAUDING INNKEEPER/THEFT OF SERVICES, OVER $400', 'DRUNK ROLL',\n",
       "       'GRAND THEFT / INSURANCE FRAUD', 'BIKE - ATTEMPTED STOLEN',\n",
       "       'BATTERY ON A FIREFIGHTER', 'CHILD ABANDONMENT', 'ILLEGAL DUMPING',\n",
       "       'DISRUPT SCHOOL', 'TELEPHONE PROPERTY - DAMAGE',\n",
       "       'DISHONEST EMPLOYEE - PETTY THEFT', 'ABORTION/ILLEGAL',\n",
       "       'INCITING A RIOT', 'TILL TAP - PETTY ($950 & UNDER)',\n",
       "       'BEASTIALITY, CRIME AGAINST NATURE SEXUAL ASSLT WITH ANIM',\n",
       "       'LYNCHING - ATTEMPTED',\n",
       "       'REPLICA FIREARMS(SALE,DISPLAY,MANUFACTURE OR DISTRIBUTE)',\n",
       "       'DOCUMENT WORTHLESS ($200 & UNDER)', 'LYNCHING',\n",
       "       'THEFT, COIN MACHINE - ATTEMPT', 'TRAIN WRECKING',\n",
       "       'DISHONEST EMPLOYEE ATTEMPTED THEFT', 'PETTY THEFT - AUTO REPAIR',\n",
       "       'FIREARMS RESTRAINING ORDER (FIREARMS RO)',\n",
       "       'TILL TAP - GRAND THEFT ($950.01 & OVER)', 'BRIBERY',\n",
       "       'TILL TAP - ATTEMPT', 'BLOCKING DOOR INDUCTION CENTER',\n",
       "       'GRAND THEFT / AUTO REPAIR', 'MANSLAUGHTER, NEGLIGENT',\n",
       "       'FAILURE TO DISPERSE',\n",
       "       'INCEST (SEXUAL ACTS BETWEEN BLOOD RELATIVES)',\n",
       "       'VEHICLE - MOTORIZED SCOOTERS, BICYCLES, AND WHEELCHAIRS',\n",
       "       'FIREARMS TEMPORARY RESTRAINING ORDER (TEMP FIREARMS RO)',\n",
       "       'BIGAMY'], dtype=object)"
      ]
     },
     "execution_count": 47,
     "metadata": {},
     "output_type": "execute_result"
    }
   ],
   "source": [
    "#We check the unique values for crime_code.\n",
    "\n",
    "df[\"crime_code\"].unique()"
   ]
  },
  {
   "cell_type": "code",
   "execution_count": 48,
   "id": "98426d18",
   "metadata": {},
   "outputs": [
    {
     "name": "stdout",
     "output_type": "stream",
     "text": [
      "                                               crime_code  \\\n",
      "1380330                                  VEHICLE - STOLEN   \n",
      "1380666                                  VEHICLE - STOLEN   \n",
      "1380780                                  VEHICLE - STOLEN   \n",
      "1380836                                  VEHICLE - STOLEN   \n",
      "1380864                                          BURGLARY   \n",
      "...                                                   ...   \n",
      "2117584                                             ARSON   \n",
      "2117585  THEFT FROM MOTOR VEHICLE - GRAND ($400 AND OVER)   \n",
      "2117586            CRIMINAL THREATS - NO WEAPON DISPLAYED   \n",
      "2117587   THEFT FROM MOTOR VEHICLE - PETTY ($950 & UNDER)   \n",
      "2117588                             BURGLARY FROM VEHICLE   \n",
      "\n",
      "              crime_categories  \n",
      "1380330  theft_related_offense  \n",
      "1380666  theft_related_offense  \n",
      "1380780  theft_related_offense  \n",
      "1380836  theft_related_offense  \n",
      "1380864  theft_related_offense  \n",
      "...                        ...  \n",
      "2117584         property_crime  \n",
      "2117585  theft_related_offense  \n",
      "2117586          violent_crime  \n",
      "2117587  theft_related_offense  \n",
      "2117588  theft_related_offense  \n",
      "\n",
      "[677117 rows x 2 columns]\n"
     ]
    }
   ],
   "source": [
    "#We call a function to group crimes by class.\n",
    "\n",
    "df.loc[:, 'crime_categories'] = df['crime_code'].apply(pf.crime_categories)\n",
    "\n",
    "# Display the updated DataFrame\n",
    "print(df[['crime_code', 'crime_categories']])"
   ]
  },
  {
   "cell_type": "code",
   "execution_count": 49,
   "id": "1ba65869",
   "metadata": {},
   "outputs": [
    {
     "data": {
      "text/plain": [
       "array(['theft_related_offense', 'property_crime', 'violent_crime',\n",
       "       'miscellaneous_crime', 'public_order_offense', 'sex_crime',\n",
       "       'fraud'], dtype=object)"
      ]
     },
     "execution_count": 49,
     "metadata": {},
     "output_type": "execute_result"
    }
   ],
   "source": [
    "#We check to see if it worked correctly.\n",
    "df[\"crime_categories\"].unique()"
   ]
  },
  {
   "cell_type": "code",
   "execution_count": 50,
   "id": "bf804a01",
   "metadata": {},
   "outputs": [
    {
     "data": {
      "text/plain": [
       "crime_categories\n",
       "theft_related_offense    380503\n",
       "violent_crime            179841\n",
       "property_crime            83516\n",
       "sex_crime                 15523\n",
       "public_order_offense      11464\n",
       "miscellaneous_crime        5638\n",
       "fraud                       632\n",
       "Name: count, dtype: int64"
      ]
     },
     "execution_count": 50,
     "metadata": {},
     "output_type": "execute_result"
    }
   ],
   "source": [
    "#We check to see the value counts for each crime class.\n",
    "\n",
    "df[\"crime_categories\"].value_counts()"
   ]
  },
  {
   "cell_type": "code",
   "execution_count": 51,
   "id": "12c3ec41",
   "metadata": {},
   "outputs": [
    {
     "data": {
      "text/plain": [
       "array(['STREET', 'OTHER BUSINESS', 'PARKING LOT', 'SIDEWALK',\n",
       "       'MULTI-UNIT DWELLING (APARTMENT, DUPLEX, ETC)', 'GARAGE/CARPORT',\n",
       "       'MEDICAL/DENTAL OFFICES', 'SINGLE FAMILY DWELLING',\n",
       "       'POLICE FACILITY', 'DEPARTMENT STORE', 'NURSERY/FLOWER SHOP',\n",
       "       'THEATRE/MOVIE', 'TRANSITIONAL HOUSING/HALFWAY HOUSE',\n",
       "       'PARKING UNDERGROUND/BUILDING', 'YARD (RESIDENTIAL/BUSINESS)',\n",
       "       'VEHICLE, PASSENGER/TRUCK', 'DRIVEWAY', 'BEAUTY/BARBER SHOP',\n",
       "       'MTA BUS', 'TRANSPORTATION FACILITY (AIRPORT)',\n",
       "       'RESTAURANT/FAST FOOD', 'OTHER/OUTSIDE',\n",
       "       'TRAIN DEPOT/TERMINAL, OTHER THAN MTA', 'ELEMENTARY SCHOOL',\n",
       "       'BANK', 'PARK/PLAYGROUND', 'HOSPITAL', 'PUBLIC STORAGE',\n",
       "       'CREDIT UNION', 'MTA - ORANGE LINE - CHATSWORTH',\n",
       "       'SPECIALTY SCHOOL/OTHER', 'MOTEL', 'CELL PHONE STORE',\n",
       "       'LIQUOR STORE', 'FURNITURE STORE', 'ALLEY',\n",
       "       'DISCOUNT STORE (99 CENT,DOLLAR,ETC.', 'OTHER RESIDENCE',\n",
       "       'CYBERSPACE', 'MARKET', 'CHECK CASHING*', 'GAS STATION',\n",
       "       'DRUG STORE', 'HIGH SCHOOL', 'NAIL SALON', 'PATIO*', 'OTHER STORE',\n",
       "       'MEMBERSHIP STORE (COSTCO,SAMS CLUB)*',\n",
       "       'AUTO DEALERSHIP (CHEVY, FORD, BMW, MERCEDES, ETC.)',\n",
       "       \"DIY CENTER (LOWE'S,HOME DEPOT,OSH,CONTRACTORS WAREHOUSE)\",\n",
       "       'HOTEL', 'NURSING/CONVALESCENT/RETIREMENT HOME',\n",
       "       'CULTURAL SIGNIFICANCE/MONUMENT', 'MISSIONS/SHELTERS',\n",
       "       'TATTOO PARLOR*', 'PROJECT/TENEMENT/PUBLIC HOUSING',\n",
       "       'NIGHT CLUB (OPEN EVENINGS ONLY)', 'CLOTHING STORE',\n",
       "       'MEDICAL MARIJUANA FACILITIES/BUSINESSES', 'MINI-MART',\n",
       "       'COLLEGE/JUNIOR COLLEGE/UNIVERSITY', 'CONSTRUCTION SITE',\n",
       "       'LAUNDROMAT', 'OTHER PREMISE', 'PORCH, RESIDENTIAL',\n",
       "       'SLIPS/DOCK/MARINA/BOAT', 'BAR/COCKTAIL/NIGHTCLUB',\n",
       "       'HEALTH SPA/GYM',\n",
       "       'CHURCH/CHAPEL (CHANGED 03-03 FROM CHURCH/TEMPLE)', 'GROUP HOME',\n",
       "       'VISION CARE FACILITY*', 'THE GROVE', 'TERMINAL, OTHER THAN MTA',\n",
       "       'CLEANER/LAUNDROMAT',\n",
       "       'GOVERNMENT FACILITY (FEDERAL,STATE, COUNTY & CITY)',\n",
       "       'JUNIOR HIGH SCHOOL', 'BUS STOP', 'OFFICE BUILDING/OFFICE',\n",
       "       'ELECTRONICS STORE (IE:RADIO SHACK, ETC.)', 'STORAGE SHED',\n",
       "       'ENTERTAINMENT/COMEDY CLUB (OTHER)', 'WAREHOUSE',\n",
       "       'BEAUTY SUPPLY STORE',\n",
       "       \"SINGLE RESIDENCE OCCUPANCY (SRO'S) LOCATIONS\",\n",
       "       'THE BEVERLY CENTER', 'STAPLES CENTER *',\n",
       "       'APARTMENT/CONDO COMMON LAUNDRY ROOM',\n",
       "       'MTA - RED LINE - VERMONT/BEVERLY', 'CONDOMINIUM/TOWNHOUSE',\n",
       "       \"COFFEE SHOP (STARBUCKS, COFFEE BEAN, PEET'S, ETC.)\",\n",
       "       'PUBLIC RESTROOM(INDOORS-INSIDE)',\n",
       "       'MTA - RED LINE - WESTLAKE/MACARTHUR PARK',\n",
       "       'THE BEVERLY CONNECTION', 'AUTO SALES LOT', 'BEACH',\n",
       "       'TOBACCO SHOP', 'DRIVE THRU*',\n",
       "       'MTA - RED LINE - VERMONT/SANTA MONICA', 'TRANSIENT ENCAMPMENT',\n",
       "       'MTA - RED LINE - NORTH HOLLYWOOD', 'ELEVATOR',\n",
       "       'BUS-CHARTER/PRIVATE', 'VACANT LOT', 'MUSEUM',\n",
       "       'STUDIO (FILM/PHOTOGRAPHIC/MUSIC)', 'EQUIPMENT RENTAL',\n",
       "       'VETERINARIAN/ANIMAL HOSPITAL',\n",
       "       'LA UNION STATION (NOT LINE SPECIFIC)', 'LIBRARY',\n",
       "       \"MOBILE HOME/TRAILERS/CONSTRUCTION TRAILERS/RV'S/MOTORHOME\",\n",
       "       'PRIVATE SCHOOL/PRESCHOOL', 'SHOPPING MALL (COMMON AREA)',\n",
       "       'HARDWARE/BUILDING SUPPLY', 'MAIL BOX', 'DETENTION/JAIL FACILITY',\n",
       "       'CAR WASH', 'FREEWAY', 'BAR/SPORTS BAR (OPEN DAY & NIGHT)',\n",
       "       'JEWELRY STORE', 'AUTO REPAIR SHOP', 'SYNAGOGUE/TEMPLE',\n",
       "       'BUS STOP/LAYOVER (ALSO QUERY 124)', 'MANUFACTURING COMPANY',\n",
       "       'MTA - EXPO LINE - PICO', 'BOWLING ALLEY*',\n",
       "       'MTA - EXPO LINE - EXPO/WESTERN', 'POOL-PUBLIC/OUTDOOR OR INDOOR*',\n",
       "       'AUTO SUPPLY STORE*', 'RECYCLING CENTER',\n",
       "       'AUTOMATED TELLER MACHINE (ATM)',\n",
       "       \"VEHICLE STORAGE LOT (CARS, TRUCKS, RV'S, BOATS, TRAILERS, ETC.)\",\n",
       "       'GREYHOUND OR INTERSTATE BUS', 'DAY CARE/CHILDREN*', 'MORTUARY',\n",
       "       'FRAT HOUSE/SORORITY/DORMITORY', 'STAIRWELL*',\n",
       "       'MUNICIPAL BUS LINE INCLUDES LADOT/DASH', 'GOLF COURSE*',\n",
       "       'PHARMACY INSIDE STORE OR SUPERMARKET*',\n",
       "       'MTA - ORANGE LINE - NORTH HOLLYWOOD',\n",
       "       'TRADE SCHOOL (MEDICAL-TECHNICAL-BUSINESS)*', 'TOW YARD*',\n",
       "       'WEBSITE',\n",
       "       'DELIVERY SERVICE (FED EX, UPS, COURIERS,COURIER SERVICE)*',\n",
       "       'MTA - ORANGE LINE - SEPULVEDA',\n",
       "       'MTA - BLUE LINE - 7TH AND METRO CENTER',\n",
       "       'MTA - EXPO LINE - EXPO/VERMONT',\n",
       "       'MTA - RED LINE - HOLLYWOOD/HIGHLAND',\n",
       "       'MTA - GOLD LINE - LITTLE TOKYO/ARTS DISTRICT',\n",
       "       'MTA - EXPO LINE - FARMDALE', 'MTA - EXPO LINE - EXPO/BUNDY',\n",
       "       'TAXI', 'AIRCRAFT', 'OPTICAL OFFICE INSIDE STORE OR SUPERMARKET*',\n",
       "       'FOSTER HOME BOYS OR GIRLS*', 'COMPUTER SERVICES/REPAIRS/SALES',\n",
       "       'VALET', 'MTA - RED LINE - 7TH AND METRO CENTER',\n",
       "       'MTA - EXPO LINE - 7TH AND METRO CENTER', 'SPORTS ARENA',\n",
       "       'MASSAGE PARLOR', 'MTA - EXPO LINE - EXPO/LA BREA',\n",
       "       'ABANDONED BUILDING ABANDONED HOUSE',\n",
       "       'MTA - RED LINE - HOLLYWOOD/VINE', 'MOSQUE*', 'PAWN SHOP',\n",
       "       'DAY CARE/ADULTS*', 'PUBLIC RESTROOM/OUTSIDE*',\n",
       "       'TELECOMMUNICATION FACILITY/LOCATION', 'BALCONY*',\n",
       "       'MTA - RED LINE - UNION STATION', 'FIRE STATION',\n",
       "       'MTA - GOLD LINE - HIGHLAND PARK', 'DODGER STADIUM',\n",
       "       '7TH AND METRO CENTER (NOT LINE SPECIFIC)',\n",
       "       'MTA - BLUE LINE - WASHINGTON',\n",
       "       \"SEX ORIENTED/BOOK STORE/STRIP CLUB/GENTLEMAN'S CLUB\",\n",
       "       'MTA - PURPLE LINE - WILSHIRE/WESTERN',\n",
       "       'MTA - GREEN LINE - HARBOR FWY', 'MTA - RED LINE - VERMONT/SUNSET',\n",
       "       'MTA - RED LINE - PERSHING SQUARE', 'METROLINK TRAIN',\n",
       "       'MTA - PURPLE LINE - UNION STATION',\n",
       "       'MTA - GOLD LINE - UNION STATION',\n",
       "       'MTA - RED LINE - CIVIC CENTER/GRAND PARK', 'SAVINGS & LOAN',\n",
       "       'PET STORE', 'SKATEBOARD FACILITY/SKATEBOARD PARK*',\n",
       "       'HIGH-RISE BUILDING',\n",
       "       'MTA - RED LINE - UNIVERSAL CITY/STUDIO CITY',\n",
       "       'MTA - EXPO LINE - EXPO/CRENSHAW', 'BUS, SCHOOL, CHURCH',\n",
       "       'MTA - GOLD LINE - CHINATOWN', 'RIVER BED*',\n",
       "       'MTA - GREEN LINE - AVALON', 'POST OFFICE', 'CEMETARY*',\n",
       "       'MTA - SILVER LINE - UNION STATION', 'SWAP MEET',\n",
       "       'MTA PROPERTY OR PARKING LOT', 'GUN/SPORTING GOODS', 'COLISEUM',\n",
       "       'MTA - GREEN LINE - AVIATION/LAX', 'UNDERPASS/BRIDGE*',\n",
       "       'BUS DEPOT/TERMINAL, OTHER THAN MTA', 'DAM/RESERVOIR',\n",
       "       'MTA - GOLD LINE - MARIACHI PLAZA', 'WATER FACILITY',\n",
       "       'MTA - EXPO LINE - EXPO PARK/USC',\n",
       "       'MTA - RED LINE - WILSHIRE/VERMONT', 'TRAIN TRACKS',\n",
       "       'TRAIN, OTHER THAN MTA (ALSO QUERY 809/810/811)',\n",
       "       'PEDESTRIAN OVERCROSSING', 'TUNNEL', 'MTA - BLUE LINE - PICO',\n",
       "       'CONVENTION CENTER', 'MTA - BLUE LINE - VERNON',\n",
       "       'MTA - ORANGE LINE - BALBOA', 'MTA - EXPO LINE - PALMS',\n",
       "       'MTA - EXPO LINE - EXPO/SEPULVEDA',\n",
       "       'MTA - EXPO LINE - JEFFERSON/USC', 'HOSPICE',\n",
       "       'MTA - GOLD LINE - SOTO',\n",
       "       'MTA - EXPO LINE - LATTC/ORTHO INSTITUTE', 'TV/RADIO/APPLIANCE',\n",
       "       'RECORD-CD MUSIC/COMPUTER GAME STORE',\n",
       "       'OTHER INTERSTATE, CHARTER BUS',\n",
       "       'MTA - RED LINE - HOLLYWOOD/WESTERN', 'OTHER PLACE OF WORSHIP',\n",
       "       'CATERING/ICE CREAM TRUCK', 'MTA - BLUE LINE - 103RD/WATTS TOWERS',\n",
       "       'MTA - ORANGE LINE - VAN NUYS', 'FINANCE COMPANY',\n",
       "       'MTA - SILVER LINE - HARBOR GATEWAY TRANSIT CTR',\n",
       "       'SEWAGE FACILITY/PIPE', 'BOOK STORE', 'SPORTS VENUE, OTHER',\n",
       "       'OTHER RR TRAIN (UNION PAC, SANTE FE ETC',\n",
       "       'MTA - GOLD LINE - LINCOLN/CYPRESS', 'SKATING RINK*',\n",
       "       'VIDEO RENTAL STORE', 'TOOL SHED*', 'MTA - GOLD LINE - INDIANA',\n",
       "       'ABORTION CLINIC/ABORTION FACILITY*',\n",
       "       'MTA - EXPO LINE - WESTWOOD/RANCHO PARK', 'FACTORY',\n",
       "       'MTA - EXPO LINE - LA CIENEGA/JEFFERSON',\n",
       "       'BANK DROP BOX/MONEY DROP-OUTSIDE OF BANK*',\n",
       "       'GARMENT MANUFACTURER', 'CHEMICAL STORAGE/MANUFACTURING PLANT',\n",
       "       'MTA - PURPLE LINE - 7TH AND METRO CENTER',\n",
       "       'ARCADE,GAME ROOM/VIDEO GAMES (EXAMPLE CHUCKIE CHEESE)*',\n",
       "       'MTA - ORANGE LINE - RESEDA', 'DRIVE THRU BANKING (WINDOW)*',\n",
       "       'ABATEMENT LOCATION', 'SHORT-TERM VACATION RENTAL',\n",
       "       'MTA - GOLD LINE - PICO/ALISO', 'ESCALATOR*', 'OIL REFINERY',\n",
       "       'MTA - PURPLE LINE - PERSHING SQUARE',\n",
       "       'MTA - ORANGE LINE - CANOGA',\n",
       "       'MTA - PURPLE LINE - WILSHIRE/NORMANDIE', 'AMTRAK TRAIN',\n",
       "       'MTA - ORANGE LINE - LAUREL CANYON',\n",
       "       'MTA - BLUE LINE - GRAND/LATTC', 'MTA - BLUE LINE - SAN PEDRO',\n",
       "       'RETIRED (DUPLICATE) DO NOT USE THIS CODE',\n",
       "       'TRAM/STREETCAR(BOXLIKE WAG ON RAILS)*', 'TRUCK, COMMERICAL',\n",
       "       'MTA - GOLD LINE - HERITAGE SQ', 'MTA - ORANGE LINE - TAMPA',\n",
       "       'METHADONE CLINIC', 'MASS GATHERING LOCATION',\n",
       "       'DEPT OF DEFENSE FACILITY',\n",
       "       'MTA - PURPLE LINE - WESTLAKE/MACARTHUR PARK',\n",
       "       'MTA - SILVER LINE - DOWNTOWN STREET STOPS',\n",
       "       'MTA - ORANGE LINE - WOODMAN', 'HORSE RACING/SANTA ANITA PARK*',\n",
       "       'MTA - PURPLE LINE - WILSHIRE/VERMONT', 'BASKETBALL COURTS',\n",
       "       'SURPLUS SURVIVAL STORE', 'AMUSEMENT PARK*',\n",
       "       'MTA - ORANGE LINE - WARNER CTR', 'MTA - SILVER LINE - SLAUSON',\n",
       "       'MTA - PURPLE LINE - CIVIC CENTER/GRAND PARK', 'PAY PHONE',\n",
       "       'MTA - ORANGE LINE - VALLEY COLLEGE',\n",
       "       'MTA - SILVER LINE - HARBOR FWY', 'ENERGY PLANT/FACILITY',\n",
       "       'MTA - SILVER LINE - MANCHESTER', 'TRASH CAN/TRASH DUMPSTER',\n",
       "       'BANKING INSIDE MARKET-STORE *',\n",
       "       'MTA - ORANGE LINE - PIERCE COLLEGE',\n",
       "       'MTA - ORANGE LINE - WOODLEY', 'MUSCLE BEACH',\n",
       "       'MTA - GOLD LINE - SOUTHWEST MUSEUM', 'MTA - ORANGE LINE - ROSCOE',\n",
       "       'MTA - ORANGE LINE - SHERMAN WAY', 'MTA - ORANGE LINE - DE SOTO',\n",
       "       'MTA - SILVER LINE - PACIFIC COAST HWY',\n",
       "       'MTA - SILVER LINE - ROSECRANS',\n",
       "       'MTA - SILVER LINE - CAL STATE LA', 'HOCKEY RINK/ICE HOCKEY',\n",
       "       'HARBOR FRWY STATION (NOT LINE SPECIFIC)',\n",
       "       'MTA - SILVER LINE - 37TH ST/USC', 'HANDBALL COURTS',\n",
       "       'MTA - SILVER LINE - SAN PEDRO STREET STOPS',\n",
       "       'MTA - ORANGE LINE - NORDHOFF',\n",
       "       'MTA - SILVER LINE - LAC/USC MEDICAL CENTER'], dtype=object)"
      ]
     },
     "execution_count": 51,
     "metadata": {},
     "output_type": "execute_result"
    }
   ],
   "source": [
    "#We check the unique values for crime_code.\n",
    "df[\"premise\"].unique()"
   ]
  },
  {
   "cell_type": "code",
   "execution_count": 52,
   "id": "b958b2cc",
   "metadata": {},
   "outputs": [
    {
     "name": "stdout",
     "output_type": "stream",
     "text": [
      "                                                   premise     premise_class\n",
      "1380330                                             STREET      public_place\n",
      "1380666                                             STREET      public_place\n",
      "1380780                                             STREET      public_place\n",
      "1380836                                             STREET      public_place\n",
      "1380864                                     OTHER BUSINESS  public_transport\n",
      "...                                                    ...               ...\n",
      "2117584  SEX ORIENTED/BOOK STORE/STRIP CLUB/GENTLEMAN'S...  commercial_space\n",
      "2117585                                             STREET      public_place\n",
      "2117586                                           SIDEWALK      public_place\n",
      "2117587                                             STREET      public_place\n",
      "2117588                                     GARAGE/CARPORT      public_place\n",
      "\n",
      "[677117 rows x 2 columns]\n"
     ]
    }
   ],
   "source": [
    "#We call a function to group premises by class.\n",
    "\n",
    "df.loc[:, 'premise_class'] = df['premise'].apply(pf.premise_class)\n",
    "\n",
    "# Display the updated DataFrame\n",
    "print(df[['premise', 'premise_class']])"
   ]
  },
  {
   "cell_type": "code",
   "execution_count": 53,
   "id": "f15aebfe",
   "metadata": {},
   "outputs": [
    {
     "data": {
      "text/plain": [
       "array(['public_place', 'public_transport', 'leisure_area',\n",
       "       'residential_area', 'healthcare_facilities',\n",
       "       'government_facilities', 'commercial_space', 'other',\n",
       "       'educational_facilities', 'financial_institutions', 'cyber_space',\n",
       "       'religious_facilities', 'industrial_facilities'], dtype=object)"
      ]
     },
     "execution_count": 53,
     "metadata": {},
     "output_type": "execute_result"
    }
   ],
   "source": [
    "#We check to see if it worked correctly.\n",
    "df[\"premise_class\"].unique()"
   ]
  },
  {
   "cell_type": "code",
   "execution_count": 54,
   "id": "181d2286",
   "metadata": {},
   "outputs": [
    {
     "data": {
      "text/plain": [
       "premise_class\n",
       "residential_area          228543\n",
       "public_place              225535\n",
       "public_transport           76411\n",
       "leisure_area               59430\n",
       "commercial_space           55087\n",
       "educational_facilities      9963\n",
       "government_facilities       7127\n",
       "other                       5333\n",
       "healthcare_facilities       5244\n",
       "financial_institutions      2435\n",
       "religious_facilities        1645\n",
       "industrial_facilities        198\n",
       "cyber_space                  166\n",
       "Name: count, dtype: int64"
      ]
     },
     "execution_count": 54,
     "metadata": {},
     "output_type": "execute_result"
    }
   ],
   "source": [
    "#We check to see the value counts for each premise class.\n",
    "\n",
    "df[\"premise_class\"].value_counts()"
   ]
  },
  {
   "cell_type": "code",
   "execution_count": 55,
   "id": "d0d87ee9",
   "metadata": {},
   "outputs": [
    {
     "data": {
      "image/png": "[encoded data removed]",
      "text/plain": [
       "<Figure size 1000x600 with 1 Axes>"
      ]
     },
     "metadata": {},
     "output_type": "display_data"
    }
   ],
   "source": [
    "# Creating the bar graph\n",
    "year_counts = df['do_year'].value_counts()\n",
    "year = year_counts.index\n",
    "\n",
    "plt.figure(figsize=(10, 6))\n",
    "plt.bar(year, year_counts, color=\"darkred\")\n",
    "\n",
    "# Adding labels and title\n",
    "plt.xlabel('Year')\n",
    "plt.ylabel('Number of crimes')\n",
    "plt.title('Crime distribution by year in LA (2017-2019)')\n",
    "\n",
    "# Displaying the graph\n",
    "plt.xticks(ticks=year, labels=year, rotation=45)\n",
    "plt.tight_layout()\n",
    "#plt.ylim(0, 200000)\n",
    "plt.show()"
   ]
  },
  {
   "cell_type": "code",
   "execution_count": 56,
   "id": "896f689c",
   "metadata": {},
   "outputs": [
    {
     "data": {
      "image/png": "[encoded data removed]",
      "text/plain": [
       "<Figure size 1000x600 with 1 Axes>"
      ]
     },
     "metadata": {},
     "output_type": "display_data"
    }
   ],
   "source": [
    "# Creating the bar graph\n",
    "weapon_counts = df['weapon_class'].value_counts()[1:]\n",
    "weapon_class = weapon_counts.index\n",
    "\n",
    "plt.figure(figsize=(10, 6))\n",
    "colors = plt.cm.Oranges(np.linspace(1, 0, len(weapon_class)))\n",
    "plt.bar(weapon_class, weapon_counts, color=colors)\n",
    "\n",
    "# Adding labels and title\n",
    "plt.xlabel('Weapons')\n",
    "plt.ylabel('Number of crimes')\n",
    "plt.title('Weapons distribution for criminality in LA (2017-2019)')\n",
    "\n",
    "# Displaying the graph\n",
    "plt.xticks(rotation=45)\n",
    "plt.tight_layout()\n",
    "plt.ylim(0, 200000)\n",
    "plt.show()"
   ]
  },
  {
   "cell_type": "code",
   "execution_count": 57,
   "id": "f62fe6f5",
   "metadata": {},
   "outputs": [
    {
     "data": {
      "image/png": "[encoded data removed]",
      "text/plain": [
       "<Figure size 1000x600 with 1 Axes>"
      ]
     },
     "metadata": {},
     "output_type": "display_data"
    }
   ],
   "source": [
    "# Creating the bar graph\n",
    "\n",
    "crime_categories_counts = df[\"crime_categories\"].value_counts()\n",
    "crime_categories = crime_categories_counts.index\n",
    "\n",
    "plt.figure(figsize=(10, 6))\n",
    "colors = plt.cm.Oranges(np.linspace(1, 0, len(crime_categories)))\n",
    "plt.bar(crime_categories, crime_categories_counts, color=colors)\n",
    "\n",
    "# Adding labels and title\n",
    "plt.xlabel('Crimes')\n",
    "plt.ylabel('Number of crimes')\n",
    "plt.title('Crimes distribution for criminality in LA (2017-2019)')\n",
    "\n",
    "# Displaying the graph\n",
    "plt.xticks(rotation=45)\n",
    "plt.tight_layout()\n",
    "plt.ylim(0, 600000)\n",
    "plt.show()"
   ]
  },
  {
   "cell_type": "code",
   "execution_count": 58,
   "id": "5cf8c23d",
   "metadata": {},
   "outputs": [
    {
     "data": {
      "image/png": "[encoded data removed]",
      "text/plain": [
       "<Figure size 1200x600 with 1 Axes>"
      ]
     },
     "metadata": {},
     "output_type": "display_data"
    }
   ],
   "source": [
    "# Creating the bar graph\n",
    "\n",
    "premise_class_counts = df[\"premise_class\"].value_counts()\n",
    "premise_class = premise_class_counts.index\n",
    "\n",
    "\n",
    "plt.figure(figsize=(12, 6))\n",
    "colors = plt.cm.Oranges(np.linspace(1, 0, len(premise_class)))\n",
    "plt.bar(premise_class, premise_class_counts, color=colors)\n",
    "\n",
    "# Adding labels and title\n",
    "plt.xlabel('Premises')\n",
    "plt.ylabel('Number of crimes')\n",
    "plt.title('Premises location for criminality in LA (2017-2019)')\n",
    "\n",
    "# Displaying the graph\n",
    "plt.xticks(rotation=45)\n",
    "plt.tight_layout()\n",
    "plt.ylim(0, 350000)\n",
    "plt.show()"
   ]
  },
  {
   "cell_type": "code",
   "execution_count": 59,
   "id": "d3efc771",
   "metadata": {},
   "outputs": [
    {
     "data": {
      "image/png": "[encoded data removed]",
      "text/plain": [
       "<Figure size 600x600 with 1 Axes>"
      ]
     },
     "metadata": {},
     "output_type": "display_data"
    }
   ],
   "source": [
    "#Creating a pie chart\n",
    "victim_counts = df['victim_sex'].value_counts()\n",
    "victim_counts.index = victim_counts.index.map({'M': 'Male', 'F': 'Female', 'not_specified': 'Not_specified'})\n",
    "plt.figure(figsize=(6, 6))\n",
    "victim_counts.plot(kind='pie', autopct='%1.1f%%')\n",
    "plt.title('Victims')\n",
    "plt.ylabel('')\n",
    "plt.show()"
   ]
  },
  {
   "cell_type": "code",
   "execution_count": 60,
   "id": "a912bf2c",
   "metadata": {},
   "outputs": [
    {
     "data": {
      "image/png": "[encoded data removed]",
      "text/plain": [
       "<Figure size 1200x600 with 1 Axes>"
      ]
     },
     "metadata": {},
     "output_type": "display_data"
    }
   ],
   "source": [
    "# Creating the bar graph for ethnicity.\n",
    "\n",
    "victim_descent_counts = df['victim_descent'].value_counts()[:9]\n",
    "victim_descent = victim_descent_counts.index\n",
    "\n",
    "plt.figure(figsize=(12, 6))\n",
    "colors = plt.cm.Oranges(np.linspace(1, 0, len(victim_descent)))\n",
    "plt.bar(victim_descent, victim_descent_counts, color=colors)\n",
    "\n",
    "# Adding labels and title\n",
    "plt.xlabel('Ethnicity')\n",
    "plt.ylabel('Number of victims')\n",
    "plt.title('Ethnicity victims in LA (2017-2019)')\n",
    "\n",
    "# Displaying the graph\n",
    "plt.xticks(rotation=45)\n",
    "plt.tight_layout()\n",
    "plt.ylim(0, 300000)\n",
    "plt.show()"
   ]
  },
  {
   "cell_type": "code",
   "execution_count": 61,
   "id": "67bd1f1b",
   "metadata": {},
   "outputs": [
    {
     "data": {
      "image/png": "[encoded data removed]",
      "text/plain": [
       "<Figure size 1200x600 with 1 Axes>"
      ]
     },
     "metadata": {},
     "output_type": "display_data"
    }
   ],
   "source": [
    "# Creating the bar graph for age. We removed the values = 0 which correspond to our \"not_specified\".\n",
    "\n",
    "victim_age_counts = df['victim_age'].value_counts()[1:]\n",
    "victim_age = victim_age_counts.index\n",
    "\n",
    "\n",
    "#We applied a coolwarm color scale to effectively show the age distribution of the victims.\n",
    "plt.figure(figsize=(12, 6))\n",
    "colors = plt.cm.coolwarm(np.linspace(1, 0, len(victim_age)))\n",
    "plt.bar(victim_age, victim_age_counts, color=colors)\n",
    "\n",
    "# Adding labels and title\n",
    "plt.xlabel('Age')\n",
    "plt.ylabel('Number of victims')\n",
    "plt.title('Age victims in LA (2017-2019)')\n",
    "\n",
    "# Displaying the graph\n",
    "plt.xticks(rotation=45)\n",
    "plt.tight_layout()\n",
    "plt.ylim(0, 25000)\n",
    "plt.show()"
   ]
  },
  {
   "cell_type": "code",
   "execution_count": 62,
   "id": "af614411",
   "metadata": {},
   "outputs": [],
   "source": [
    "grouped_1 = df.groupby([\"do_year\",\"do_month\"]).agg({\"do_month\": \"count\"})"
   ]
  },
  {
   "cell_type": "code",
   "execution_count": 63,
   "id": "4821b579",
   "metadata": {},
   "outputs": [],
   "source": [
    "grouped_1 = grouped_1.rename(columns = {\"do_month\": \"num_crimes\"}).reset_index()"
   ]
  },
  {
   "cell_type": "code",
   "execution_count": 64,
   "id": "ec28e06c",
   "metadata": {},
   "outputs": [
    {
     "data": {
      "text/html": [
       "<div>\n",
       "<style scoped>\n",
       "    .dataframe tbody tr th:only-of-type {\n",
       "        vertical-align: middle;\n",
       "    }\n",
       "\n",
       "    .dataframe tbody tr th {\n",
       "        vertical-align: top;\n",
       "    }\n",
       "\n",
       "    .dataframe thead th {\n",
       "        text-align: right;\n",
       "    }\n",
       "</style>\n",
       "<table border=\"1\" class=\"dataframe\">\n",
       "  <thead>\n",
       "    <tr style=\"text-align: right;\">\n",
       "      <th></th>\n",
       "      <th>do_year</th>\n",
       "      <th>do_month</th>\n",
       "      <th>num_crimes</th>\n",
       "    </tr>\n",
       "  </thead>\n",
       "  <tbody>\n",
       "    <tr>\n",
       "      <th>0</th>\n",
       "      <td>2017</td>\n",
       "      <td>1</td>\n",
       "      <td>19617</td>\n",
       "    </tr>\n",
       "    <tr>\n",
       "      <th>1</th>\n",
       "      <td>2017</td>\n",
       "      <td>2</td>\n",
       "      <td>17103</td>\n",
       "    </tr>\n",
       "    <tr>\n",
       "      <th>2</th>\n",
       "      <td>2017</td>\n",
       "      <td>3</td>\n",
       "      <td>19400</td>\n",
       "    </tr>\n",
       "    <tr>\n",
       "      <th>3</th>\n",
       "      <td>2017</td>\n",
       "      <td>4</td>\n",
       "      <td>18748</td>\n",
       "    </tr>\n",
       "    <tr>\n",
       "      <th>4</th>\n",
       "      <td>2017</td>\n",
       "      <td>5</td>\n",
       "      <td>19445</td>\n",
       "    </tr>\n",
       "    <tr>\n",
       "      <th>5</th>\n",
       "      <td>2017</td>\n",
       "      <td>6</td>\n",
       "      <td>19027</td>\n",
       "    </tr>\n",
       "    <tr>\n",
       "      <th>6</th>\n",
       "      <td>2017</td>\n",
       "      <td>7</td>\n",
       "      <td>20147</td>\n",
       "    </tr>\n",
       "    <tr>\n",
       "      <th>7</th>\n",
       "      <td>2017</td>\n",
       "      <td>8</td>\n",
       "      <td>19702</td>\n",
       "    </tr>\n",
       "    <tr>\n",
       "      <th>8</th>\n",
       "      <td>2017</td>\n",
       "      <td>9</td>\n",
       "      <td>19413</td>\n",
       "    </tr>\n",
       "    <tr>\n",
       "      <th>9</th>\n",
       "      <td>2017</td>\n",
       "      <td>10</td>\n",
       "      <td>20391</td>\n",
       "    </tr>\n",
       "    <tr>\n",
       "      <th>10</th>\n",
       "      <td>2017</td>\n",
       "      <td>11</td>\n",
       "      <td>19004</td>\n",
       "    </tr>\n",
       "    <tr>\n",
       "      <th>11</th>\n",
       "      <td>2017</td>\n",
       "      <td>12</td>\n",
       "      <td>19016</td>\n",
       "    </tr>\n",
       "    <tr>\n",
       "      <th>12</th>\n",
       "      <td>2018</td>\n",
       "      <td>1</td>\n",
       "      <td>19356</td>\n",
       "    </tr>\n",
       "    <tr>\n",
       "      <th>13</th>\n",
       "      <td>2018</td>\n",
       "      <td>2</td>\n",
       "      <td>17126</td>\n",
       "    </tr>\n",
       "    <tr>\n",
       "      <th>14</th>\n",
       "      <td>2018</td>\n",
       "      <td>3</td>\n",
       "      <td>19013</td>\n",
       "    </tr>\n",
       "    <tr>\n",
       "      <th>15</th>\n",
       "      <td>2018</td>\n",
       "      <td>4</td>\n",
       "      <td>19123</td>\n",
       "    </tr>\n",
       "    <tr>\n",
       "      <th>16</th>\n",
       "      <td>2018</td>\n",
       "      <td>5</td>\n",
       "      <td>19928</td>\n",
       "    </tr>\n",
       "    <tr>\n",
       "      <th>17</th>\n",
       "      <td>2018</td>\n",
       "      <td>6</td>\n",
       "      <td>19243</td>\n",
       "    </tr>\n",
       "    <tr>\n",
       "      <th>18</th>\n",
       "      <td>2018</td>\n",
       "      <td>7</td>\n",
       "      <td>19818</td>\n",
       "    </tr>\n",
       "    <tr>\n",
       "      <th>19</th>\n",
       "      <td>2018</td>\n",
       "      <td>8</td>\n",
       "      <td>19706</td>\n",
       "    </tr>\n",
       "    <tr>\n",
       "      <th>20</th>\n",
       "      <td>2018</td>\n",
       "      <td>9</td>\n",
       "      <td>18432</td>\n",
       "    </tr>\n",
       "    <tr>\n",
       "      <th>21</th>\n",
       "      <td>2018</td>\n",
       "      <td>10</td>\n",
       "      <td>19500</td>\n",
       "    </tr>\n",
       "    <tr>\n",
       "      <th>22</th>\n",
       "      <td>2018</td>\n",
       "      <td>11</td>\n",
       "      <td>18623</td>\n",
       "    </tr>\n",
       "    <tr>\n",
       "      <th>23</th>\n",
       "      <td>2018</td>\n",
       "      <td>12</td>\n",
       "      <td>18910</td>\n",
       "    </tr>\n",
       "    <tr>\n",
       "      <th>24</th>\n",
       "      <td>2019</td>\n",
       "      <td>1</td>\n",
       "      <td>18374</td>\n",
       "    </tr>\n",
       "    <tr>\n",
       "      <th>25</th>\n",
       "      <td>2019</td>\n",
       "      <td>2</td>\n",
       "      <td>16227</td>\n",
       "    </tr>\n",
       "    <tr>\n",
       "      <th>26</th>\n",
       "      <td>2019</td>\n",
       "      <td>3</td>\n",
       "      <td>18773</td>\n",
       "    </tr>\n",
       "    <tr>\n",
       "      <th>27</th>\n",
       "      <td>2019</td>\n",
       "      <td>4</td>\n",
       "      <td>17896</td>\n",
       "    </tr>\n",
       "    <tr>\n",
       "      <th>28</th>\n",
       "      <td>2019</td>\n",
       "      <td>5</td>\n",
       "      <td>18612</td>\n",
       "    </tr>\n",
       "    <tr>\n",
       "      <th>29</th>\n",
       "      <td>2019</td>\n",
       "      <td>6</td>\n",
       "      <td>18288</td>\n",
       "    </tr>\n",
       "    <tr>\n",
       "      <th>30</th>\n",
       "      <td>2019</td>\n",
       "      <td>7</td>\n",
       "      <td>19035</td>\n",
       "    </tr>\n",
       "    <tr>\n",
       "      <th>31</th>\n",
       "      <td>2019</td>\n",
       "      <td>8</td>\n",
       "      <td>18878</td>\n",
       "    </tr>\n",
       "    <tr>\n",
       "      <th>32</th>\n",
       "      <td>2019</td>\n",
       "      <td>9</td>\n",
       "      <td>17956</td>\n",
       "    </tr>\n",
       "    <tr>\n",
       "      <th>33</th>\n",
       "      <td>2019</td>\n",
       "      <td>10</td>\n",
       "      <td>18147</td>\n",
       "    </tr>\n",
       "    <tr>\n",
       "      <th>34</th>\n",
       "      <td>2019</td>\n",
       "      <td>11</td>\n",
       "      <td>17180</td>\n",
       "    </tr>\n",
       "    <tr>\n",
       "      <th>35</th>\n",
       "      <td>2019</td>\n",
       "      <td>12</td>\n",
       "      <td>17960</td>\n",
       "    </tr>\n",
       "  </tbody>\n",
       "</table>\n",
       "</div>"
      ],
      "text/plain": [
       "    do_year  do_month  num_crimes\n",
       "0      2017         1       19617\n",
       "1      2017         2       17103\n",
       "2      2017         3       19400\n",
       "3      2017         4       18748\n",
       "4      2017         5       19445\n",
       "5      2017         6       19027\n",
       "6      2017         7       20147\n",
       "7      2017         8       19702\n",
       "8      2017         9       19413\n",
       "9      2017        10       20391\n",
       "10     2017        11       19004\n",
       "11     2017        12       19016\n",
       "12     2018         1       19356\n",
       "13     2018         2       17126\n",
       "14     2018         3       19013\n",
       "15     2018         4       19123\n",
       "16     2018         5       19928\n",
       "17     2018         6       19243\n",
       "18     2018         7       19818\n",
       "19     2018         8       19706\n",
       "20     2018         9       18432\n",
       "21     2018        10       19500\n",
       "22     2018        11       18623\n",
       "23     2018        12       18910\n",
       "24     2019         1       18374\n",
       "25     2019         2       16227\n",
       "26     2019         3       18773\n",
       "27     2019         4       17896\n",
       "28     2019         5       18612\n",
       "29     2019         6       18288\n",
       "30     2019         7       19035\n",
       "31     2019         8       18878\n",
       "32     2019         9       17956\n",
       "33     2019        10       18147\n",
       "34     2019        11       17180\n",
       "35     2019        12       17960"
      ]
     },
     "execution_count": 64,
     "metadata": {},
     "output_type": "execute_result"
    }
   ],
   "source": [
    "grouped_1"
   ]
  },
  {
   "cell_type": "code",
   "execution_count": 65,
   "id": "046c3449",
   "metadata": {},
   "outputs": [],
   "source": [
    "df[\"categorized_time\"] = df[\"time_occured\"].apply(pf.categorize_cleaned_time)"
   ]
  },
  {
   "cell_type": "code",
   "execution_count": 66,
   "id": "a9dcd3d3",
   "metadata": {},
   "outputs": [
    {
     "data": {
      "text/plain": [
       "categorized_time\n",
       "20:00-05:00    226359\n",
       "17:00-20:00    118136\n",
       "12:00-15:00    112378\n",
       "08:00-12:00    110343\n",
       "15:00-17:00     70401\n",
       "05:00-08:00     39500\n",
       "Name: count, dtype: int64"
      ]
     },
     "execution_count": 66,
     "metadata": {},
     "output_type": "execute_result"
    }
   ],
   "source": [
    "df[\"categorized_time\"].value_counts()"
   ]
  },
  {
   "cell_type": "code",
   "execution_count": 67,
   "id": "062524d4",
   "metadata": {
    "scrolled": false
   },
   "outputs": [
    {
     "data": {
      "image/png": "[encoded data removed]",
      "text/plain": [
       "<Figure size 800x600 with 1 Axes>"
      ]
     },
     "metadata": {},
     "output_type": "display_data"
    }
   ],
   "source": [
    "# Creating the bar graph for times of day. \n",
    "\n",
    "categorized_time_counts = df['categorized_time'].value_counts().sort_index()\n",
    "categorized_time = categorized_time_counts.index\n",
    "\n",
    "\n",
    "#We applied a coolwarm color scale to effectively show the age distribution of the victims.\n",
    "plt.figure(figsize=(8, 6))\n",
    "#colors = plt.cm.Oranges(np.linspace(1, 0, len(categorized_time)))\n",
    "plt.bar(categorized_time, categorized_time_counts, color=\"darkred\")\n",
    "\n",
    "# Adding labels and title\n",
    "plt.xlabel('Time range')\n",
    "plt.ylabel('Number of crimes')\n",
    "plt.title('Crimes in LA (2017-2019)')\n",
    "\n",
    "# Displaying the graph\n",
    "plt.xticks(rotation=45)\n",
    "plt.tight_layout()\n",
    "plt.ylim(0, 350000)\n",
    "plt.show()"
   ]
  },
  {
   "cell_type": "code",
   "execution_count": 68,
   "id": "55055731",
   "metadata": {
    "scrolled": false
   },
   "outputs": [
    {
     "data": {
      "image/png": "[encoded data removed]",
      "text/plain": [
       "<Figure size 1400x600 with 1 Axes>"
      ]
     },
     "metadata": {},
     "output_type": "display_data"
    }
   ],
   "source": [
    "# Ensure 'time_occured' is in the correct format, then extract hour and minute\n",
    "df['time_occured'] = pd.to_datetime(df['time_occured'], format='%H:%M')\n",
    "\n",
    "# Create a new column for the time in minutes since midnight\n",
    "df['time_in_minutes'] = df['time_occured'].dt.hour\n",
    "\n",
    "# Count occurrences for each minute of the day\n",
    "minute_counts = df['time_in_minutes'].value_counts().sort_index()\n",
    "\n",
    "# Create a line plot\n",
    "plt.figure(figsize=(14, 6))\n",
    "plt.plot(minute_counts.index, minute_counts.values, marker='o', linestyle='-')\n",
    "plt.title('Crime repartitions over 24 hours')\n",
    "plt.xlabel('Time of day')\n",
    "plt.ylabel('Number of crimes')\n",
    "\n",
    "# Set x-ticks to every hour\n",
    "plt.xticks(ticks=range(0, 24))\n",
    "\n",
    "plt.grid()\n",
    "plt.tight_layout()\n",
    "plt.show()"
   ]
  },
  {
   "cell_type": "code",
   "execution_count": 69,
   "id": "b3b60a81",
   "metadata": {},
   "outputs": [],
   "source": [
    "location_df =df[[\"area\", \"lon\", \"lat\"]]\n"
   ]
  },
  {
   "cell_type": "code",
   "execution_count": 70,
   "id": "9cc4881f",
   "metadata": {},
   "outputs": [],
   "source": [
    "location_df = location_df.groupby([\"area\"]).agg({\"area\":\"count\", \"lon\": \"median\", \"lat\": \"median\"})"
   ]
  },
  {
   "cell_type": "code",
   "execution_count": 71,
   "id": "feee2b36",
   "metadata": {},
   "outputs": [],
   "source": [
    "location_df.rename({\"area\": \"crimes\"}, axis=1, inplace=True)"
   ]
  },
  {
   "cell_type": "code",
   "execution_count": 72,
   "id": "470a6af5",
   "metadata": {},
   "outputs": [],
   "source": [
    "location_df.reset_index(inplace=True)"
   ]
  },
  {
   "cell_type": "code",
   "execution_count": 73,
   "id": "77dfbd79",
   "metadata": {},
   "outputs": [],
   "source": [
    "map = folium.Map(location=[location_df.lat.median(), location_df.lon.median()], zoom_start=10, control_scale=True)"
   ]
  },
  {
   "cell_type": "code",
   "execution_count": 74,
   "id": "8a30f7b6",
   "metadata": {},
   "outputs": [],
   "source": [
    "for index, location_info  in location_df.iterrows():\n",
    "    folium.Marker([location_info[\"lat\"], location_info[\"lon\"]], popup=location_info[\"area\"]).add_to(map)"
   ]
  },
  {
   "cell_type": "code",
   "execution_count": 75,
   "id": "4fd22ae1",
   "metadata": {
    "scrolled": false
   },
   "outputs": [
    {
     "data": {
      "text/html": [
       "<div style=\"width:100%;\"><div style=\"position:relative;width:100%;height:0;padding-bottom:60%;\"><span style=\"color:#565656\">Make this Notebook Trusted to load map: File -> Trust Notebook</span><iframe srcdoc=\"&lt;!DOCTYPE html&gt;\n",
       "&lt;html&gt;\n",
       "&lt;head&gt;\n",
       "    \n",
       "    &lt;meta http-equiv=&quot;content-type&quot; content=&quot;text/html; charset=UTF-8&quot; /&gt;\n",
       "    \n",
       "        &lt;script&gt;\n",
       "            L_NO_TOUCH = false;\n",
       "            L_DISABLE_3D = false;\n",
       "        &lt;/script&gt;\n",
       "    \n",
       "    &lt;style&gt;html, body {width: 100%;height: 100%;margin: 0;padding: 0;}&lt;/style&gt;\n",
       "    &lt;style&gt;#map {position:absolute;top:0;bottom:0;right:0;left:0;}&lt;/style&gt;\n",
       "    &lt;script src=&quot;https://cdn.jsdelivr.net/npm/leaflet@1.9.3/dist/leaflet.js&quot;&gt;&lt;/script&gt;\n",
       "    &lt;script src=&quot;https://code.jquery.com/jquery-3.7.1.min.js&quot;&gt;&lt;/script&gt;\n",
       "    &lt;script src=&quot;https://cdn.jsdelivr.net/npm/bootstrap@5.2.2/dist/js/bootstrap.bundle.min.js&quot;&gt;&lt;/script&gt;\n",
       "    &lt;script src=&quot;https://cdnjs.cloudflare.com/ajax/libs/Leaflet.awesome-markers/2.0.2/leaflet.awesome-markers.js&quot;&gt;&lt;/script&gt;\n",
       "    &lt;link rel=&quot;stylesheet&quot; href=&quot;https://cdn.jsdelivr.net/npm/leaflet@1.9.3/dist/leaflet.css&quot;/&gt;\n",
       "    &lt;link rel=&quot;stylesheet&quot; href=&quot;https://cdn.jsdelivr.net/npm/bootstrap@5.2.2/dist/css/bootstrap.min.css&quot;/&gt;\n",
       "    &lt;link rel=&quot;stylesheet&quot; href=&quot;https://netdna.bootstrapcdn.com/bootstrap/3.0.0/css/bootstrap-glyphicons.css&quot;/&gt;\n",
       "    &lt;link rel=&quot;stylesheet&quot; href=&quot;https://cdn.jsdelivr.net/npm/@fortawesome/fontawesome-free@6.2.0/css/all.min.css&quot;/&gt;\n",
       "    &lt;link rel=&quot;stylesheet&quot; href=&quot;https://cdnjs.cloudflare.com/ajax/libs/Leaflet.awesome-markers/2.0.2/leaflet.awesome-markers.css&quot;/&gt;\n",
       "    &lt;link rel=&quot;stylesheet&quot; href=&quot;https://cdn.jsdelivr.net/gh/python-visualization/folium/folium/templates/leaflet.awesome.rotate.min.css&quot;/&gt;\n",
       "    \n",
       "            &lt;meta name=&quot;viewport&quot; content=&quot;width=device-width,\n",
       "                initial-scale=1.0, maximum-scale=1.0, user-scalable=no&quot; /&gt;\n",
       "            &lt;style&gt;\n",
       "                #map_c48592aad69c3f4abad654c66755c713 {\n",
       "                    position: relative;\n",
       "                    width: 100.0%;\n",
       "                    height: 100.0%;\n",
       "                    left: 0.0%;\n",
       "                    top: 0.0%;\n",
       "                }\n",
       "                .leaflet-container { font-size: 1rem; }\n",
       "            &lt;/style&gt;\n",
       "        \n",
       "&lt;/head&gt;\n",
       "&lt;body&gt;\n",
       "    \n",
       "    \n",
       "            &lt;div class=&quot;folium-map&quot; id=&quot;map_c48592aad69c3f4abad654c66755c713&quot; &gt;&lt;/div&gt;\n",
       "        \n",
       "&lt;/body&gt;\n",
       "&lt;script&gt;\n",
       "    \n",
       "    \n",
       "            var map_c48592aad69c3f4abad654c66755c713 = L.map(\n",
       "                &quot;map_c48592aad69c3f4abad654c66755c713&quot;,\n",
       "                {\n",
       "                    center: [34.0616, -118.331],\n",
       "                    crs: L.CRS.EPSG3857,\n",
       "                    zoom: 10,\n",
       "                    zoomControl: true,\n",
       "                    preferCanvas: false,\n",
       "                }\n",
       "            );\n",
       "            L.control.scale().addTo(map_c48592aad69c3f4abad654c66755c713);\n",
       "\n",
       "            \n",
       "\n",
       "        \n",
       "    \n",
       "            var tile_layer_23437653df45286483b31c087064f878 = L.tileLayer(\n",
       "                &quot;https://tile.openstreetmap.org/{z}/{x}/{y}.png&quot;,\n",
       "                {&quot;attribution&quot;: &quot;\\u0026copy; \\u003ca href=\\&quot;https://www.openstreetmap.org/copyright\\&quot;\\u003eOpenStreetMap\\u003c/a\\u003e contributors&quot;, &quot;detectRetina&quot;: false, &quot;maxNativeZoom&quot;: 19, &quot;maxZoom&quot;: 19, &quot;minZoom&quot;: 0, &quot;noWrap&quot;: false, &quot;opacity&quot;: 1, &quot;subdomains&quot;: &quot;abc&quot;, &quot;tms&quot;: false}\n",
       "            );\n",
       "        \n",
       "    \n",
       "            tile_layer_23437653df45286483b31c087064f878.addTo(map_c48592aad69c3f4abad654c66755c713);\n",
       "        \n",
       "    \n",
       "            var marker_b4afa769b2d8252c45f70562a8a20865 = L.marker(\n",
       "                [33.9774, -118.2958],\n",
       "                {}\n",
       "            ).addTo(map_c48592aad69c3f4abad654c66755c713);\n",
       "        \n",
       "    \n",
       "        var popup_cdad0205af7691cc1779a8d5995a4a6c = L.popup({&quot;maxWidth&quot;: &quot;100%&quot;});\n",
       "\n",
       "        \n",
       "            \n",
       "                var html_0dd63e5d633b13dc43cdcf5d503324d9 = $(`&lt;div id=&quot;html_0dd63e5d633b13dc43cdcf5d503324d9&quot; style=&quot;width: 100.0%; height: 100.0%;&quot;&gt;77th Street&lt;/div&gt;`)[0];\n",
       "                popup_cdad0205af7691cc1779a8d5995a4a6c.setContent(html_0dd63e5d633b13dc43cdcf5d503324d9);\n",
       "            \n",
       "        \n",
       "\n",
       "        marker_b4afa769b2d8252c45f70562a8a20865.bindPopup(popup_cdad0205af7691cc1779a8d5995a4a6c)\n",
       "        ;\n",
       "\n",
       "        \n",
       "    \n",
       "    \n",
       "            var marker_d4e6aadf3381c6ed788cfd96d1847a4e = L.marker(\n",
       "                [34.0462, -118.249],\n",
       "                {}\n",
       "            ).addTo(map_c48592aad69c3f4abad654c66755c713);\n",
       "        \n",
       "    \n",
       "        var popup_682e7be91aab6ffc529ffaeceb3ffd58 = L.popup({&quot;maxWidth&quot;: &quot;100%&quot;});\n",
       "\n",
       "        \n",
       "            \n",
       "                var html_405a8def5ae1ceeec1296e5f3411618f = $(`&lt;div id=&quot;html_405a8def5ae1ceeec1296e5f3411618f&quot; style=&quot;width: 100.0%; height: 100.0%;&quot;&gt;Central&lt;/div&gt;`)[0];\n",
       "                popup_682e7be91aab6ffc529ffaeceb3ffd58.setContent(html_405a8def5ae1ceeec1296e5f3411618f);\n",
       "            \n",
       "        \n",
       "\n",
       "        marker_d4e6aadf3381c6ed788cfd96d1847a4e.bindPopup(popup_682e7be91aab6ffc529ffaeceb3ffd58)\n",
       "        ;\n",
       "\n",
       "        \n",
       "    \n",
       "    \n",
       "            var marker_7cfe5ac0eeabbc3593a024ed342042ff = L.marker(\n",
       "                [34.25, -118.5361],\n",
       "                {}\n",
       "            ).addTo(map_c48592aad69c3f4abad654c66755c713);\n",
       "        \n",
       "    \n",
       "        var popup_c1af0b30ee6a0e20884743263e765f7e = L.popup({&quot;maxWidth&quot;: &quot;100%&quot;});\n",
       "\n",
       "        \n",
       "            \n",
       "                var html_9c42db1f66bdb0aa4fd286a75bfcc9c3 = $(`&lt;div id=&quot;html_9c42db1f66bdb0aa4fd286a75bfcc9c3&quot; style=&quot;width: 100.0%; height: 100.0%;&quot;&gt;Devonshire&lt;/div&gt;`)[0];\n",
       "                popup_c1af0b30ee6a0e20884743263e765f7e.setContent(html_9c42db1f66bdb0aa4fd286a75bfcc9c3);\n",
       "            \n",
       "        \n",
       "\n",
       "        marker_7cfe5ac0eeabbc3593a024ed342042ff.bindPopup(popup_c1af0b30ee6a0e20884743263e765f7e)\n",
       "        ;\n",
       "\n",
       "        \n",
       "    \n",
       "    \n",
       "            var marker_e796b4282c97fdb865b4c4a768a2ca72 = L.marker(\n",
       "                [34.2536, -118.3944],\n",
       "                {}\n",
       "            ).addTo(map_c48592aad69c3f4abad654c66755c713);\n",
       "        \n",
       "    \n",
       "        var popup_6895cf2f2231367ab6dc1bba083822e7 = L.popup({&quot;maxWidth&quot;: &quot;100%&quot;});\n",
       "\n",
       "        \n",
       "            \n",
       "                var html_0f16155a0b1e88a2afdfbffb233c57ed = $(`&lt;div id=&quot;html_0f16155a0b1e88a2afdfbffb233c57ed&quot; style=&quot;width: 100.0%; height: 100.0%;&quot;&gt;Foothill&lt;/div&gt;`)[0];\n",
       "                popup_6895cf2f2231367ab6dc1bba083822e7.setContent(html_0f16155a0b1e88a2afdfbffb233c57ed);\n",
       "            \n",
       "        \n",
       "\n",
       "        marker_e796b4282c97fdb865b4c4a768a2ca72.bindPopup(popup_6895cf2f2231367ab6dc1bba083822e7)\n",
       "        ;\n",
       "\n",
       "        \n",
       "    \n",
       "    \n",
       "            var marker_d2946f51cf50022cefb31bb80ccb4d57 = L.marker(\n",
       "                [33.7757, -118.2899],\n",
       "                {}\n",
       "            ).addTo(map_c48592aad69c3f4abad654c66755c713);\n",
       "        \n",
       "    \n",
       "        var popup_af649563f79249e4e6ce171863b4021f = L.popup({&quot;maxWidth&quot;: &quot;100%&quot;});\n",
       "\n",
       "        \n",
       "            \n",
       "                var html_b2c2d238cecf105357f4caebbcb3bcd7 = $(`&lt;div id=&quot;html_b2c2d238cecf105357f4caebbcb3bcd7&quot; style=&quot;width: 100.0%; height: 100.0%;&quot;&gt;Harbor&lt;/div&gt;`)[0];\n",
       "                popup_af649563f79249e4e6ce171863b4021f.setContent(html_b2c2d238cecf105357f4caebbcb3bcd7);\n",
       "            \n",
       "        \n",
       "\n",
       "        marker_d2946f51cf50022cefb31bb80ccb4d57.bindPopup(popup_af649563f79249e4e6ce171863b4021f)\n",
       "        ;\n",
       "\n",
       "        \n",
       "    \n",
       "    \n",
       "            var marker_e981fe006c4be0e848ddaa96a58e37f0 = L.marker(\n",
       "                [34.0512, -118.206],\n",
       "                {}\n",
       "            ).addTo(map_c48592aad69c3f4abad654c66755c713);\n",
       "        \n",
       "    \n",
       "        var popup_2821cbedb2794053184d265142108c3a = L.popup({&quot;maxWidth&quot;: &quot;100%&quot;});\n",
       "\n",
       "        \n",
       "            \n",
       "                var html_a0f8ff22cc0935be0a41e181ef1177e7 = $(`&lt;div id=&quot;html_a0f8ff22cc0935be0a41e181ef1177e7&quot; style=&quot;width: 100.0%; height: 100.0%;&quot;&gt;Hollenbeck&lt;/div&gt;`)[0];\n",
       "                popup_2821cbedb2794053184d265142108c3a.setContent(html_a0f8ff22cc0935be0a41e181ef1177e7);\n",
       "            \n",
       "        \n",
       "\n",
       "        marker_e981fe006c4be0e848ddaa96a58e37f0.bindPopup(popup_2821cbedb2794053184d265142108c3a)\n",
       "        ;\n",
       "\n",
       "        \n",
       "    \n",
       "    \n",
       "            var marker_4c57c21ebf44f022701cb39d7e19ea98 = L.marker(\n",
       "                [34.0998, -118.331],\n",
       "                {}\n",
       "            ).addTo(map_c48592aad69c3f4abad654c66755c713);\n",
       "        \n",
       "    \n",
       "        var popup_9209294d16ef2101ca81ad077fb7bb61 = L.popup({&quot;maxWidth&quot;: &quot;100%&quot;});\n",
       "\n",
       "        \n",
       "            \n",
       "                var html_7a255f69adaa8d6d9b048ce7a35eea25 = $(`&lt;div id=&quot;html_7a255f69adaa8d6d9b048ce7a35eea25&quot; style=&quot;width: 100.0%; height: 100.0%;&quot;&gt;Hollywood&lt;/div&gt;`)[0];\n",
       "                popup_9209294d16ef2101ca81ad077fb7bb61.setContent(html_7a255f69adaa8d6d9b048ce7a35eea25);\n",
       "            \n",
       "        \n",
       "\n",
       "        marker_4c57c21ebf44f022701cb39d7e19ea98.bindPopup(popup_9209294d16ef2101ca81ad077fb7bb61)\n",
       "        ;\n",
       "\n",
       "        \n",
       "    \n",
       "    \n",
       "            var marker_2f908eadbf3c03f0fbe6af016e41ac51 = L.marker(\n",
       "                [34.2413, -118.4516],\n",
       "                {}\n",
       "            ).addTo(map_c48592aad69c3f4abad654c66755c713);\n",
       "        \n",
       "    \n",
       "        var popup_18e0e65abf962c47184799eb636240de = L.popup({&quot;maxWidth&quot;: &quot;100%&quot;});\n",
       "\n",
       "        \n",
       "            \n",
       "                var html_b4d4d381a98dde912b088c59830284cd = $(`&lt;div id=&quot;html_b4d4d381a98dde912b088c59830284cd&quot; style=&quot;width: 100.0%; height: 100.0%;&quot;&gt;Mission&lt;/div&gt;`)[0];\n",
       "                popup_18e0e65abf962c47184799eb636240de.setContent(html_b4d4d381a98dde912b088c59830284cd);\n",
       "            \n",
       "        \n",
       "\n",
       "        marker_2f908eadbf3c03f0fbe6af016e41ac51.bindPopup(popup_18e0e65abf962c47184799eb636240de)\n",
       "        ;\n",
       "\n",
       "        \n",
       "    \n",
       "    \n",
       "            var marker_b5e0752cef9fd91a17a8ed756df1aa0b = L.marker(\n",
       "                [34.1722, -118.3845],\n",
       "                {}\n",
       "            ).addTo(map_c48592aad69c3f4abad654c66755c713);\n",
       "        \n",
       "    \n",
       "        var popup_11ef442695a85674b8d9d33070ca84ed = L.popup({&quot;maxWidth&quot;: &quot;100%&quot;});\n",
       "\n",
       "        \n",
       "            \n",
       "                var html_7b9043e5127104e95c20d054f2447e8d = $(`&lt;div id=&quot;html_7b9043e5127104e95c20d054f2447e8d&quot; style=&quot;width: 100.0%; height: 100.0%;&quot;&gt;N Hollywood&lt;/div&gt;`)[0];\n",
       "                popup_11ef442695a85674b8d9d33070ca84ed.setContent(html_7b9043e5127104e95c20d054f2447e8d);\n",
       "            \n",
       "        \n",
       "\n",
       "        marker_b5e0752cef9fd91a17a8ed756df1aa0b.bindPopup(popup_11ef442695a85674b8d9d33070ca84ed)\n",
       "        ;\n",
       "\n",
       "        \n",
       "    \n",
       "    \n",
       "            var marker_66210b05dd8074667c7d22926e074f38 = L.marker(\n",
       "                [34.0073, -118.262],\n",
       "                {}\n",
       "            ).addTo(map_c48592aad69c3f4abad654c66755c713);\n",
       "        \n",
       "    \n",
       "        var popup_b774eedf94bbc3964235b436156f0056 = L.popup({&quot;maxWidth&quot;: &quot;100%&quot;});\n",
       "\n",
       "        \n",
       "            \n",
       "                var html_4075b6180a55442f75051d440a1a30e3 = $(`&lt;div id=&quot;html_4075b6180a55442f75051d440a1a30e3&quot; style=&quot;width: 100.0%; height: 100.0%;&quot;&gt;Newton&lt;/div&gt;`)[0];\n",
       "                popup_b774eedf94bbc3964235b436156f0056.setContent(html_4075b6180a55442f75051d440a1a30e3);\n",
       "            \n",
       "        \n",
       "\n",
       "        marker_66210b05dd8074667c7d22926e074f38.bindPopup(popup_b774eedf94bbc3964235b436156f0056)\n",
       "        ;\n",
       "\n",
       "        \n",
       "    \n",
       "    \n",
       "            var marker_3a8c8d12460c1a452c3011a203be166b = L.marker(\n",
       "                [34.1072, -118.2451],\n",
       "                {}\n",
       "            ).addTo(map_c48592aad69c3f4abad654c66755c713);\n",
       "        \n",
       "    \n",
       "        var popup_8303654e5353f6e32ee192127d913b38 = L.popup({&quot;maxWidth&quot;: &quot;100%&quot;});\n",
       "\n",
       "        \n",
       "            \n",
       "                var html_82e612f7839cbd1c2aa94f75a46765c9 = $(`&lt;div id=&quot;html_82e612f7839cbd1c2aa94f75a46765c9&quot; style=&quot;width: 100.0%; height: 100.0%;&quot;&gt;Northeast&lt;/div&gt;`)[0];\n",
       "                popup_8303654e5353f6e32ee192127d913b38.setContent(html_82e612f7839cbd1c2aa94f75a46765c9);\n",
       "            \n",
       "        \n",
       "\n",
       "        marker_3a8c8d12460c1a452c3011a203be166b.bindPopup(popup_8303654e5353f6e32ee192127d913b38)\n",
       "        ;\n",
       "\n",
       "        \n",
       "    \n",
       "    \n",
       "            var marker_8f2c78ad6a6f3bae7085bcfad7973343 = L.marker(\n",
       "                [34.0608, -118.3003],\n",
       "                {}\n",
       "            ).addTo(map_c48592aad69c3f4abad654c66755c713);\n",
       "        \n",
       "    \n",
       "        var popup_88eed483b3cd26dcb152be64298bf76f = L.popup({&quot;maxWidth&quot;: &quot;100%&quot;});\n",
       "\n",
       "        \n",
       "            \n",
       "                var html_dd5c47e1838fbdae08997343120c665a = $(`&lt;div id=&quot;html_dd5c47e1838fbdae08997343120c665a&quot; style=&quot;width: 100.0%; height: 100.0%;&quot;&gt;Olympic&lt;/div&gt;`)[0];\n",
       "                popup_88eed483b3cd26dcb152be64298bf76f.setContent(html_dd5c47e1838fbdae08997343120c665a);\n",
       "            \n",
       "        \n",
       "\n",
       "        marker_8f2c78ad6a6f3bae7085bcfad7973343.bindPopup(popup_88eed483b3cd26dcb152be64298bf76f)\n",
       "        ;\n",
       "\n",
       "        \n",
       "    \n",
       "    \n",
       "            var marker_9570ae0ef941ecff348ad6f9a4316c5c = L.marker(\n",
       "                [33.9873, -118.422],\n",
       "                {}\n",
       "            ).addTo(map_c48592aad69c3f4abad654c66755c713);\n",
       "        \n",
       "    \n",
       "        var popup_a2fba42704fe96ec74a859ee329fb392 = L.popup({&quot;maxWidth&quot;: &quot;100%&quot;});\n",
       "\n",
       "        \n",
       "            \n",
       "                var html_d44642dc5b964e1e9ee3e4e8b4dfa891 = $(`&lt;div id=&quot;html_d44642dc5b964e1e9ee3e4e8b4dfa891&quot; style=&quot;width: 100.0%; height: 100.0%;&quot;&gt;Pacific&lt;/div&gt;`)[0];\n",
       "                popup_a2fba42704fe96ec74a859ee329fb392.setContent(html_d44642dc5b964e1e9ee3e4e8b4dfa891);\n",
       "            \n",
       "        \n",
       "\n",
       "        marker_9570ae0ef941ecff348ad6f9a4316c5c.bindPopup(popup_a2fba42704fe96ec74a859ee329fb392)\n",
       "        ;\n",
       "\n",
       "        \n",
       "    \n",
       "    \n",
       "            var marker_80bc65dbb0a5db799423da9c3e3f90b2 = L.marker(\n",
       "                [34.0616, -118.2749],\n",
       "                {}\n",
       "            ).addTo(map_c48592aad69c3f4abad654c66755c713);\n",
       "        \n",
       "    \n",
       "        var popup_758aff104d3240000c6c78437f2e03fc = L.popup({&quot;maxWidth&quot;: &quot;100%&quot;});\n",
       "\n",
       "        \n",
       "            \n",
       "                var html_cf4ebb9f6c164080aaba0c648822fa0c = $(`&lt;div id=&quot;html_cf4ebb9f6c164080aaba0c648822fa0c&quot; style=&quot;width: 100.0%; height: 100.0%;&quot;&gt;Rampart&lt;/div&gt;`)[0];\n",
       "                popup_758aff104d3240000c6c78437f2e03fc.setContent(html_cf4ebb9f6c164080aaba0c648822fa0c);\n",
       "            \n",
       "        \n",
       "\n",
       "        marker_80bc65dbb0a5db799423da9c3e3f90b2.bindPopup(popup_758aff104d3240000c6c78437f2e03fc)\n",
       "        ;\n",
       "\n",
       "        \n",
       "    \n",
       "    \n",
       "            var marker_0a5b3f03057d25177f06294394ca8f5e = L.marker(\n",
       "                [33.9407, -118.2695],\n",
       "                {}\n",
       "            ).addTo(map_c48592aad69c3f4abad654c66755c713);\n",
       "        \n",
       "    \n",
       "        var popup_6523ebc6be2cf7be739896436670c150 = L.popup({&quot;maxWidth&quot;: &quot;100%&quot;});\n",
       "\n",
       "        \n",
       "            \n",
       "                var html_2fdab3bc7b1d801616573875b6a4842d = $(`&lt;div id=&quot;html_2fdab3bc7b1d801616573875b6a4842d&quot; style=&quot;width: 100.0%; height: 100.0%;&quot;&gt;Southeast&lt;/div&gt;`)[0];\n",
       "                popup_6523ebc6be2cf7be739896436670c150.setContent(html_2fdab3bc7b1d801616573875b6a4842d);\n",
       "            \n",
       "        \n",
       "\n",
       "        marker_0a5b3f03057d25177f06294394ca8f5e.bindPopup(popup_6523ebc6be2cf7be739896436670c150)\n",
       "        ;\n",
       "\n",
       "        \n",
       "    \n",
       "    \n",
       "            var marker_28e9111762bd64979d05f608c9c8a9f4 = L.marker(\n",
       "                [34.0201, -118.3138],\n",
       "                {}\n",
       "            ).addTo(map_c48592aad69c3f4abad654c66755c713);\n",
       "        \n",
       "    \n",
       "        var popup_e1263a6753846cc5a18b1693bdbe9922 = L.popup({&quot;maxWidth&quot;: &quot;100%&quot;});\n",
       "\n",
       "        \n",
       "            \n",
       "                var html_a4811d64648f381c62ef694b75ba27bc = $(`&lt;div id=&quot;html_a4811d64648f381c62ef694b75ba27bc&quot; style=&quot;width: 100.0%; height: 100.0%;&quot;&gt;Southwest&lt;/div&gt;`)[0];\n",
       "                popup_e1263a6753846cc5a18b1693bdbe9922.setContent(html_a4811d64648f381c62ef694b75ba27bc);\n",
       "            \n",
       "        \n",
       "\n",
       "        marker_28e9111762bd64979d05f608c9c8a9f4.bindPopup(popup_e1263a6753846cc5a18b1693bdbe9922)\n",
       "        ;\n",
       "\n",
       "        \n",
       "    \n",
       "    \n",
       "            var marker_ab58cbf03ccabfd67db914cc262aaf86 = L.marker(\n",
       "                [34.1925, -118.6016],\n",
       "                {}\n",
       "            ).addTo(map_c48592aad69c3f4abad654c66755c713);\n",
       "        \n",
       "    \n",
       "        var popup_20cb14c8a7e68482abdace0531fb5f79 = L.popup({&quot;maxWidth&quot;: &quot;100%&quot;});\n",
       "\n",
       "        \n",
       "            \n",
       "                var html_b35417274e8e777eefb98e6ae2006827 = $(`&lt;div id=&quot;html_b35417274e8e777eefb98e6ae2006827&quot; style=&quot;width: 100.0%; height: 100.0%;&quot;&gt;Topanga&lt;/div&gt;`)[0];\n",
       "                popup_20cb14c8a7e68482abdace0531fb5f79.setContent(html_b35417274e8e777eefb98e6ae2006827);\n",
       "            \n",
       "        \n",
       "\n",
       "        marker_ab58cbf03ccabfd67db914cc262aaf86.bindPopup(popup_20cb14c8a7e68482abdace0531fb5f79)\n",
       "        ;\n",
       "\n",
       "        \n",
       "    \n",
       "    \n",
       "            var marker_25cbc00a45e05d1c8ddfe9a511384a48 = L.marker(\n",
       "                [34.1822, -118.4487],\n",
       "                {}\n",
       "            ).addTo(map_c48592aad69c3f4abad654c66755c713);\n",
       "        \n",
       "    \n",
       "        var popup_bc7e175f738444529944a12b16da4539 = L.popup({&quot;maxWidth&quot;: &quot;100%&quot;});\n",
       "\n",
       "        \n",
       "            \n",
       "                var html_eca9c9ea4ba11c29b61a7099517cc117 = $(`&lt;div id=&quot;html_eca9c9ea4ba11c29b61a7099517cc117&quot; style=&quot;width: 100.0%; height: 100.0%;&quot;&gt;Van Nuys&lt;/div&gt;`)[0];\n",
       "                popup_bc7e175f738444529944a12b16da4539.setContent(html_eca9c9ea4ba11c29b61a7099517cc117);\n",
       "            \n",
       "        \n",
       "\n",
       "        marker_25cbc00a45e05d1c8ddfe9a511384a48.bindPopup(popup_bc7e175f738444529944a12b16da4539)\n",
       "        ;\n",
       "\n",
       "        \n",
       "    \n",
       "    \n",
       "            var marker_607a80a5a416eb442fb77f6a9711fc35 = L.marker(\n",
       "                [34.0489, -118.442],\n",
       "                {}\n",
       "            ).addTo(map_c48592aad69c3f4abad654c66755c713);\n",
       "        \n",
       "    \n",
       "        var popup_af50bbb77da65e8318aa2e29e19a5824 = L.popup({&quot;maxWidth&quot;: &quot;100%&quot;});\n",
       "\n",
       "        \n",
       "            \n",
       "                var html_f4dfddff8a10890de5851858615a59fc = $(`&lt;div id=&quot;html_f4dfddff8a10890de5851858615a59fc&quot; style=&quot;width: 100.0%; height: 100.0%;&quot;&gt;West LA&lt;/div&gt;`)[0];\n",
       "                popup_af50bbb77da65e8318aa2e29e19a5824.setContent(html_f4dfddff8a10890de5851858615a59fc);\n",
       "            \n",
       "        \n",
       "\n",
       "        marker_607a80a5a416eb442fb77f6a9711fc35.bindPopup(popup_af50bbb77da65e8318aa2e29e19a5824)\n",
       "        ;\n",
       "\n",
       "        \n",
       "    \n",
       "    \n",
       "            var marker_1b820565b9e73e63fdfe3132210e117f = L.marker(\n",
       "                [34.1903, -118.5253],\n",
       "                {}\n",
       "            ).addTo(map_c48592aad69c3f4abad654c66755c713);\n",
       "        \n",
       "    \n",
       "        var popup_5815dd8c25dc11f7d32274f263413438 = L.popup({&quot;maxWidth&quot;: &quot;100%&quot;});\n",
       "\n",
       "        \n",
       "            \n",
       "                var html_4c5fac96073d02796bd95b84a7867289 = $(`&lt;div id=&quot;html_4c5fac96073d02796bd95b84a7867289&quot; style=&quot;width: 100.0%; height: 100.0%;&quot;&gt;West Valley&lt;/div&gt;`)[0];\n",
       "                popup_5815dd8c25dc11f7d32274f263413438.setContent(html_4c5fac96073d02796bd95b84a7867289);\n",
       "            \n",
       "        \n",
       "\n",
       "        marker_1b820565b9e73e63fdfe3132210e117f.bindPopup(popup_5815dd8c25dc11f7d32274f263413438)\n",
       "        ;\n",
       "\n",
       "        \n",
       "    \n",
       "    \n",
       "            var marker_37521d46324d77eccc1e8ba953ec7b7b = L.marker(\n",
       "                [34.063, -118.3525],\n",
       "                {}\n",
       "            ).addTo(map_c48592aad69c3f4abad654c66755c713);\n",
       "        \n",
       "    \n",
       "        var popup_8e319b7e754984ace6a6ae9213ef593b = L.popup({&quot;maxWidth&quot;: &quot;100%&quot;});\n",
       "\n",
       "        \n",
       "            \n",
       "                var html_b5a34e5128b806c13c5e44108180f171 = $(`&lt;div id=&quot;html_b5a34e5128b806c13c5e44108180f171&quot; style=&quot;width: 100.0%; height: 100.0%;&quot;&gt;Wilshire&lt;/div&gt;`)[0];\n",
       "                popup_8e319b7e754984ace6a6ae9213ef593b.setContent(html_b5a34e5128b806c13c5e44108180f171);\n",
       "            \n",
       "        \n",
       "\n",
       "        marker_37521d46324d77eccc1e8ba953ec7b7b.bindPopup(popup_8e319b7e754984ace6a6ae9213ef593b)\n",
       "        ;\n",
       "\n",
       "        \n",
       "    \n",
       "&lt;/script&gt;\n",
       "&lt;/html&gt;\" style=\"position:absolute;width:100%;height:100%;left:0;top:0;border:none !important;\" allowfullscreen webkitallowfullscreen mozallowfullscreen></iframe></div></div>"
      ],
      "text/plain": [
       "<folium.folium.Map at 0x29383d86e50>"
      ]
     },
     "execution_count": 75,
     "metadata": {},
     "output_type": "execute_result"
    }
   ],
   "source": [
    "map"
   ]
  },
  {
   "cell_type": "code",
   "execution_count": 76,
   "id": "a0626eeb",
   "metadata": {},
   "outputs": [],
   "source": [
    "df[\"clean_weapon\"] = df.loc[df[\"weapon_class\"] != \"not_specified\", \"weapon_class\"]"
   ]
  },
  {
   "cell_type": "code",
   "execution_count": 77,
   "id": "790d804e",
   "metadata": {},
   "outputs": [
    {
     "data": {
      "text/plain": [
       "clean_weapon\n",
       "bare_hands      151085\n",
       "other            31003\n",
       "blade            14436\n",
       "blunt_weapon      7213\n",
       "rifle             4159\n",
       "handgun           2628\n",
       "long_blade         773\n",
       "shotgun            327\n",
       "Name: count, dtype: int64"
      ]
     },
     "execution_count": 77,
     "metadata": {},
     "output_type": "execute_result"
    }
   ],
   "source": [
    "df[\"clean_weapon\"].value_counts()"
   ]
  },
  {
   "cell_type": "code",
   "execution_count": 78,
   "id": "ba52b316",
   "metadata": {},
   "outputs": [
    {
     "data": {
      "text/plain": [
       "count    677117.000000\n",
       "mean         31.852293\n",
       "std          21.126522\n",
       "min           0.000000\n",
       "25%          19.000000\n",
       "50%          32.000000\n",
       "75%          47.000000\n",
       "max          99.000000\n",
       "Name: victim_age, dtype: float64"
      ]
     },
     "execution_count": 78,
     "metadata": {},
     "output_type": "execute_result"
    }
   ],
   "source": [
    "df[\"victim_age\"].describe()"
   ]
  },
  {
   "cell_type": "code",
   "execution_count": 79,
   "id": "4f2f90e8",
   "metadata": {},
   "outputs": [],
   "source": [
    "crime_crosstab = pd.crosstab(df[\"clean_weapon\"], df[\"crime_categories\"])"
   ]
  },
  {
   "cell_type": "code",
   "execution_count": 80,
   "id": "7921e06f",
   "metadata": {},
   "outputs": [
    {
     "data": {
      "text/html": [
       "<div>\n",
       "<style scoped>\n",
       "    .dataframe tbody tr th:only-of-type {\n",
       "        vertical-align: middle;\n",
       "    }\n",
       "\n",
       "    .dataframe tbody tr th {\n",
       "        vertical-align: top;\n",
       "    }\n",
       "\n",
       "    .dataframe thead th {\n",
       "        text-align: right;\n",
       "    }\n",
       "</style>\n",
       "<table border=\"1\" class=\"dataframe\">\n",
       "  <thead>\n",
       "    <tr style=\"text-align: right;\">\n",
       "      <th>crime_categories</th>\n",
       "      <th>fraud</th>\n",
       "      <th>miscellaneous_crime</th>\n",
       "      <th>property_crime</th>\n",
       "      <th>public_order_offense</th>\n",
       "      <th>sex_crime</th>\n",
       "      <th>theft_related_offense</th>\n",
       "      <th>violent_crime</th>\n",
       "    </tr>\n",
       "    <tr>\n",
       "      <th>clean_weapon</th>\n",
       "      <th></th>\n",
       "      <th></th>\n",
       "      <th></th>\n",
       "      <th></th>\n",
       "      <th></th>\n",
       "      <th></th>\n",
       "      <th></th>\n",
       "    </tr>\n",
       "  </thead>\n",
       "  <tbody>\n",
       "    <tr>\n",
       "      <th>bare_hands</th>\n",
       "      <td>125</td>\n",
       "      <td>152</td>\n",
       "      <td>3070</td>\n",
       "      <td>997</td>\n",
       "      <td>4403</td>\n",
       "      <td>25671</td>\n",
       "      <td>116667</td>\n",
       "    </tr>\n",
       "    <tr>\n",
       "      <th>blade</th>\n",
       "      <td>4</td>\n",
       "      <td>16</td>\n",
       "      <td>236</td>\n",
       "      <td>7</td>\n",
       "      <td>46</td>\n",
       "      <td>3393</td>\n",
       "      <td>10734</td>\n",
       "    </tr>\n",
       "    <tr>\n",
       "      <th>blunt_weapon</th>\n",
       "      <td>3</td>\n",
       "      <td>3</td>\n",
       "      <td>542</td>\n",
       "      <td>12</td>\n",
       "      <td>7</td>\n",
       "      <td>1055</td>\n",
       "      <td>5591</td>\n",
       "    </tr>\n",
       "    <tr>\n",
       "      <th>handgun</th>\n",
       "      <td>1</td>\n",
       "      <td>4</td>\n",
       "      <td>152</td>\n",
       "      <td>2</td>\n",
       "      <td>1</td>\n",
       "      <td>782</td>\n",
       "      <td>1686</td>\n",
       "    </tr>\n",
       "    <tr>\n",
       "      <th>long_blade</th>\n",
       "      <td>0</td>\n",
       "      <td>1</td>\n",
       "      <td>15</td>\n",
       "      <td>1</td>\n",
       "      <td>2</td>\n",
       "      <td>85</td>\n",
       "      <td>669</td>\n",
       "    </tr>\n",
       "    <tr>\n",
       "      <th>other</th>\n",
       "      <td>25</td>\n",
       "      <td>239</td>\n",
       "      <td>1696</td>\n",
       "      <td>956</td>\n",
       "      <td>598</td>\n",
       "      <td>4082</td>\n",
       "      <td>23407</td>\n",
       "    </tr>\n",
       "    <tr>\n",
       "      <th>rifle</th>\n",
       "      <td>15</td>\n",
       "      <td>14</td>\n",
       "      <td>268</td>\n",
       "      <td>2</td>\n",
       "      <td>9</td>\n",
       "      <td>1615</td>\n",
       "      <td>2236</td>\n",
       "    </tr>\n",
       "    <tr>\n",
       "      <th>shotgun</th>\n",
       "      <td>1</td>\n",
       "      <td>2</td>\n",
       "      <td>26</td>\n",
       "      <td>0</td>\n",
       "      <td>0</td>\n",
       "      <td>101</td>\n",
       "      <td>197</td>\n",
       "    </tr>\n",
       "  </tbody>\n",
       "</table>\n",
       "</div>"
      ],
      "text/plain": [
       "crime_categories  fraud  miscellaneous_crime  property_crime  \\\n",
       "clean_weapon                                                   \n",
       "bare_hands          125                  152            3070   \n",
       "blade                 4                   16             236   \n",
       "blunt_weapon          3                    3             542   \n",
       "handgun               1                    4             152   \n",
       "long_blade            0                    1              15   \n",
       "other                25                  239            1696   \n",
       "rifle                15                   14             268   \n",
       "shotgun               1                    2              26   \n",
       "\n",
       "crime_categories  public_order_offense  sex_crime  theft_related_offense  \\\n",
       "clean_weapon                                                               \n",
       "bare_hands                         997       4403                  25671   \n",
       "blade                                7         46                   3393   \n",
       "blunt_weapon                        12          7                   1055   \n",
       "handgun                              2          1                    782   \n",
       "long_blade                           1          2                     85   \n",
       "other                              956        598                   4082   \n",
       "rifle                                2          9                   1615   \n",
       "shotgun                              0          0                    101   \n",
       "\n",
       "crime_categories  violent_crime  \n",
       "clean_weapon                     \n",
       "bare_hands               116667  \n",
       "blade                     10734  \n",
       "blunt_weapon               5591  \n",
       "handgun                    1686  \n",
       "long_blade                  669  \n",
       "other                     23407  \n",
       "rifle                      2236  \n",
       "shotgun                     197  "
      ]
     },
     "execution_count": 80,
     "metadata": {},
     "output_type": "execute_result"
    }
   ],
   "source": [
    "crime_crosstab"
   ]
  },
  {
   "cell_type": "code",
   "execution_count": 81,
   "id": "2eef44a1",
   "metadata": {},
   "outputs": [
    {
     "data": {
      "image/png": "[encoded data removed]",
      "text/plain": [
       "<Figure size 640x480 with 2 Axes>"
      ]
     },
     "metadata": {},
     "output_type": "display_data"
    }
   ],
   "source": [
    "heat_map = sns.heatmap(crime_crosstab, linewidths = 1, cmap=\"Reds\")\n",
    "\n",
    "plt.title(\"Heatmap of weapons used in crimes\")\n",
    "plt.xlabel(\"Crimes\")\n",
    "plt.ylabel(\"Weapon\")\n",
    "\n",
    "\n",
    "plt.show()"
   ]
  },
  {
   "cell_type": "code",
   "execution_count": 82,
   "id": "6a6efec0",
   "metadata": {},
   "outputs": [],
   "source": [
    "location_crosstab = pd.crosstab(df[\"area\"], df[\"crime_categories\"])"
   ]
  },
  {
   "cell_type": "code",
   "execution_count": 83,
   "id": "d999b50a",
   "metadata": {
    "scrolled": true
   },
   "outputs": [
    {
     "data": {
      "text/html": [
       "<div>\n",
       "<style scoped>\n",
       "    .dataframe tbody tr th:only-of-type {\n",
       "        vertical-align: middle;\n",
       "    }\n",
       "\n",
       "    .dataframe tbody tr th {\n",
       "        vertical-align: top;\n",
       "    }\n",
       "\n",
       "    .dataframe thead th {\n",
       "        text-align: right;\n",
       "    }\n",
       "</style>\n",
       "<table border=\"1\" class=\"dataframe\">\n",
       "  <thead>\n",
       "    <tr style=\"text-align: right;\">\n",
       "      <th>crime_categories</th>\n",
       "      <th>fraud</th>\n",
       "      <th>miscellaneous_crime</th>\n",
       "      <th>property_crime</th>\n",
       "      <th>public_order_offense</th>\n",
       "      <th>sex_crime</th>\n",
       "      <th>theft_related_offense</th>\n",
       "      <th>violent_crime</th>\n",
       "    </tr>\n",
       "    <tr>\n",
       "      <th>area</th>\n",
       "      <th></th>\n",
       "      <th></th>\n",
       "      <th></th>\n",
       "      <th></th>\n",
       "      <th></th>\n",
       "      <th></th>\n",
       "      <th></th>\n",
       "    </tr>\n",
       "  </thead>\n",
       "  <tbody>\n",
       "    <tr>\n",
       "      <th>77th Street</th>\n",
       "      <td>42</td>\n",
       "      <td>360</td>\n",
       "      <td>5524</td>\n",
       "      <td>894</td>\n",
       "      <td>933</td>\n",
       "      <td>20925</td>\n",
       "      <td>15908</td>\n",
       "    </tr>\n",
       "    <tr>\n",
       "      <th>Central</th>\n",
       "      <td>41</td>\n",
       "      <td>414</td>\n",
       "      <td>4292</td>\n",
       "      <td>301</td>\n",
       "      <td>696</td>\n",
       "      <td>20069</td>\n",
       "      <td>12848</td>\n",
       "    </tr>\n",
       "    <tr>\n",
       "      <th>Devonshire</th>\n",
       "      <td>28</td>\n",
       "      <td>201</td>\n",
       "      <td>3214</td>\n",
       "      <td>541</td>\n",
       "      <td>710</td>\n",
       "      <td>18676</td>\n",
       "      <td>5792</td>\n",
       "    </tr>\n",
       "    <tr>\n",
       "      <th>Foothill</th>\n",
       "      <td>24</td>\n",
       "      <td>210</td>\n",
       "      <td>3399</td>\n",
       "      <td>308</td>\n",
       "      <td>584</td>\n",
       "      <td>13024</td>\n",
       "      <td>6278</td>\n",
       "    </tr>\n",
       "    <tr>\n",
       "      <th>Harbor</th>\n",
       "      <td>24</td>\n",
       "      <td>244</td>\n",
       "      <td>3919</td>\n",
       "      <td>643</td>\n",
       "      <td>588</td>\n",
       "      <td>14113</td>\n",
       "      <td>7914</td>\n",
       "    </tr>\n",
       "    <tr>\n",
       "      <th>Hollenbeck</th>\n",
       "      <td>16</td>\n",
       "      <td>175</td>\n",
       "      <td>3908</td>\n",
       "      <td>710</td>\n",
       "      <td>656</td>\n",
       "      <td>12644</td>\n",
       "      <td>8082</td>\n",
       "    </tr>\n",
       "    <tr>\n",
       "      <th>Hollywood</th>\n",
       "      <td>33</td>\n",
       "      <td>328</td>\n",
       "      <td>4727</td>\n",
       "      <td>444</td>\n",
       "      <td>759</td>\n",
       "      <td>19011</td>\n",
       "      <td>8524</td>\n",
       "    </tr>\n",
       "    <tr>\n",
       "      <th>Mission</th>\n",
       "      <td>32</td>\n",
       "      <td>244</td>\n",
       "      <td>3971</td>\n",
       "      <td>675</td>\n",
       "      <td>890</td>\n",
       "      <td>15930</td>\n",
       "      <td>8338</td>\n",
       "    </tr>\n",
       "    <tr>\n",
       "      <th>N Hollywood</th>\n",
       "      <td>29</td>\n",
       "      <td>347</td>\n",
       "      <td>4766</td>\n",
       "      <td>253</td>\n",
       "      <td>810</td>\n",
       "      <td>21413</td>\n",
       "      <td>7862</td>\n",
       "    </tr>\n",
       "    <tr>\n",
       "      <th>Newton</th>\n",
       "      <td>26</td>\n",
       "      <td>231</td>\n",
       "      <td>4185</td>\n",
       "      <td>648</td>\n",
       "      <td>631</td>\n",
       "      <td>16773</td>\n",
       "      <td>10854</td>\n",
       "    </tr>\n",
       "    <tr>\n",
       "      <th>Northeast</th>\n",
       "      <td>43</td>\n",
       "      <td>214</td>\n",
       "      <td>4027</td>\n",
       "      <td>628</td>\n",
       "      <td>683</td>\n",
       "      <td>18138</td>\n",
       "      <td>6698</td>\n",
       "    </tr>\n",
       "    <tr>\n",
       "      <th>Olympic</th>\n",
       "      <td>32</td>\n",
       "      <td>166</td>\n",
       "      <td>3713</td>\n",
       "      <td>547</td>\n",
       "      <td>808</td>\n",
       "      <td>18118</td>\n",
       "      <td>8931</td>\n",
       "    </tr>\n",
       "    <tr>\n",
       "      <th>Pacific</th>\n",
       "      <td>24</td>\n",
       "      <td>331</td>\n",
       "      <td>4050</td>\n",
       "      <td>527</td>\n",
       "      <td>584</td>\n",
       "      <td>24051</td>\n",
       "      <td>6903</td>\n",
       "    </tr>\n",
       "    <tr>\n",
       "      <th>Rampart</th>\n",
       "      <td>13</td>\n",
       "      <td>182</td>\n",
       "      <td>3623</td>\n",
       "      <td>409</td>\n",
       "      <td>748</td>\n",
       "      <td>14629</td>\n",
       "      <td>9179</td>\n",
       "    </tr>\n",
       "    <tr>\n",
       "      <th>Southeast</th>\n",
       "      <td>27</td>\n",
       "      <td>268</td>\n",
       "      <td>4411</td>\n",
       "      <td>593</td>\n",
       "      <td>705</td>\n",
       "      <td>16603</td>\n",
       "      <td>12892</td>\n",
       "    </tr>\n",
       "    <tr>\n",
       "      <th>Southwest</th>\n",
       "      <td>47</td>\n",
       "      <td>343</td>\n",
       "      <td>5091</td>\n",
       "      <td>701</td>\n",
       "      <td>950</td>\n",
       "      <td>22329</td>\n",
       "      <td>12625</td>\n",
       "    </tr>\n",
       "    <tr>\n",
       "      <th>Topanga</th>\n",
       "      <td>24</td>\n",
       "      <td>223</td>\n",
       "      <td>3112</td>\n",
       "      <td>831</td>\n",
       "      <td>725</td>\n",
       "      <td>19800</td>\n",
       "      <td>6263</td>\n",
       "    </tr>\n",
       "    <tr>\n",
       "      <th>Van Nuys</th>\n",
       "      <td>42</td>\n",
       "      <td>352</td>\n",
       "      <td>3689</td>\n",
       "      <td>393</td>\n",
       "      <td>815</td>\n",
       "      <td>18643</td>\n",
       "      <td>6852</td>\n",
       "    </tr>\n",
       "    <tr>\n",
       "      <th>West LA</th>\n",
       "      <td>27</td>\n",
       "      <td>211</td>\n",
       "      <td>3070</td>\n",
       "      <td>361</td>\n",
       "      <td>719</td>\n",
       "      <td>19213</td>\n",
       "      <td>4714</td>\n",
       "    </tr>\n",
       "    <tr>\n",
       "      <th>West Valley</th>\n",
       "      <td>32</td>\n",
       "      <td>252</td>\n",
       "      <td>3118</td>\n",
       "      <td>614</td>\n",
       "      <td>801</td>\n",
       "      <td>16972</td>\n",
       "      <td>6063</td>\n",
       "    </tr>\n",
       "    <tr>\n",
       "      <th>Wilshire</th>\n",
       "      <td>26</td>\n",
       "      <td>342</td>\n",
       "      <td>3707</td>\n",
       "      <td>443</td>\n",
       "      <td>728</td>\n",
       "      <td>19429</td>\n",
       "      <td>6321</td>\n",
       "    </tr>\n",
       "  </tbody>\n",
       "</table>\n",
       "</div>"
      ],
      "text/plain": [
       "crime_categories  fraud  miscellaneous_crime  property_crime  \\\n",
       "area                                                           \n",
       "77th Street          42                  360            5524   \n",
       "Central              41                  414            4292   \n",
       "Devonshire           28                  201            3214   \n",
       "Foothill             24                  210            3399   \n",
       "Harbor               24                  244            3919   \n",
       "Hollenbeck           16                  175            3908   \n",
       "Hollywood            33                  328            4727   \n",
       "Mission              32                  244            3971   \n",
       "N Hollywood          29                  347            4766   \n",
       "Newton               26                  231            4185   \n",
       "Northeast            43                  214            4027   \n",
       "Olympic              32                  166            3713   \n",
       "Pacific              24                  331            4050   \n",
       "Rampart              13                  182            3623   \n",
       "Southeast            27                  268            4411   \n",
       "Southwest            47                  343            5091   \n",
       "Topanga              24                  223            3112   \n",
       "Van Nuys             42                  352            3689   \n",
       "West LA              27                  211            3070   \n",
       "West Valley          32                  252            3118   \n",
       "Wilshire             26                  342            3707   \n",
       "\n",
       "crime_categories  public_order_offense  sex_crime  theft_related_offense  \\\n",
       "area                                                                       \n",
       "77th Street                        894        933                  20925   \n",
       "Central                            301        696                  20069   \n",
       "Devonshire                         541        710                  18676   \n",
       "Foothill                           308        584                  13024   \n",
       "Harbor                             643        588                  14113   \n",
       "Hollenbeck                         710        656                  12644   \n",
       "Hollywood                          444        759                  19011   \n",
       "Mission                            675        890                  15930   \n",
       "N Hollywood                        253        810                  21413   \n",
       "Newton                             648        631                  16773   \n",
       "Northeast                          628        683                  18138   \n",
       "Olympic                            547        808                  18118   \n",
       "Pacific                            527        584                  24051   \n",
       "Rampart                            409        748                  14629   \n",
       "Southeast                          593        705                  16603   \n",
       "Southwest                          701        950                  22329   \n",
       "Topanga                            831        725                  19800   \n",
       "Van Nuys                           393        815                  18643   \n",
       "West LA                            361        719                  19213   \n",
       "West Valley                        614        801                  16972   \n",
       "Wilshire                           443        728                  19429   \n",
       "\n",
       "crime_categories  violent_crime  \n",
       "area                             \n",
       "77th Street               15908  \n",
       "Central                   12848  \n",
       "Devonshire                 5792  \n",
       "Foothill                   6278  \n",
       "Harbor                     7914  \n",
       "Hollenbeck                 8082  \n",
       "Hollywood                  8524  \n",
       "Mission                    8338  \n",
       "N Hollywood                7862  \n",
       "Newton                    10854  \n",
       "Northeast                  6698  \n",
       "Olympic                    8931  \n",
       "Pacific                    6903  \n",
       "Rampart                    9179  \n",
       "Southeast                 12892  \n",
       "Southwest                 12625  \n",
       "Topanga                    6263  \n",
       "Van Nuys                   6852  \n",
       "West LA                    4714  \n",
       "West Valley                6063  \n",
       "Wilshire                   6321  "
      ]
     },
     "execution_count": 83,
     "metadata": {},
     "output_type": "execute_result"
    }
   ],
   "source": [
    "location_crosstab"
   ]
  },
  {
   "cell_type": "code",
   "execution_count": 84,
   "id": "17410061",
   "metadata": {},
   "outputs": [
    {
     "data": {
      "image/png": "[encoded data removed]",
      "text/plain": [
       "<Figure size 640x480 with 2 Axes>"
      ]
     },
     "metadata": {},
     "output_type": "display_data"
    }
   ],
   "source": [
    "heat_map = sns.heatmap(location_crosstab, linewidths = 1, cmap=\"Reds\")\n",
    "\n",
    "plt.title(\"Heatmap of crimes by area\")\n",
    "plt.xlabel(\"Crimes\")\n",
    "plt.ylabel(\"Area\")\n",
    "\n",
    "\n",
    "plt.show()"
   ]
  },
  {
   "cell_type": "code",
   "execution_count": 85,
   "id": "c49764d5",
   "metadata": {},
   "outputs": [],
   "source": [
    "df[\"clean_sex\"] = df.loc[df[\"victim_sex\"] != \"not_specified\", \"victim_sex\"]"
   ]
  },
  {
   "cell_type": "code",
   "execution_count": 86,
   "id": "7f0fc909",
   "metadata": {},
   "outputs": [],
   "source": [
    "sex_crosstab = pd.crosstab(df[\"crime_categories\"],df[\"clean_sex\"])"
   ]
  },
  {
   "cell_type": "code",
   "execution_count": 87,
   "id": "41a00e05",
   "metadata": {},
   "outputs": [
    {
     "data": {
      "text/html": [
       "<div>\n",
       "<style scoped>\n",
       "    .dataframe tbody tr th:only-of-type {\n",
       "        vertical-align: middle;\n",
       "    }\n",
       "\n",
       "    .dataframe tbody tr th {\n",
       "        vertical-align: top;\n",
       "    }\n",
       "\n",
       "    .dataframe thead th {\n",
       "        text-align: right;\n",
       "    }\n",
       "</style>\n",
       "<table border=\"1\" class=\"dataframe\">\n",
       "  <thead>\n",
       "    <tr style=\"text-align: right;\">\n",
       "      <th>clean_sex</th>\n",
       "      <th>F</th>\n",
       "      <th>M</th>\n",
       "    </tr>\n",
       "    <tr>\n",
       "      <th>crime_categories</th>\n",
       "      <th></th>\n",
       "      <th></th>\n",
       "    </tr>\n",
       "  </thead>\n",
       "  <tbody>\n",
       "    <tr>\n",
       "      <th>fraud</th>\n",
       "      <td>291</td>\n",
       "      <td>242</td>\n",
       "    </tr>\n",
       "    <tr>\n",
       "      <th>miscellaneous_crime</th>\n",
       "      <td>1940</td>\n",
       "      <td>2697</td>\n",
       "    </tr>\n",
       "    <tr>\n",
       "      <th>property_crime</th>\n",
       "      <td>34324</td>\n",
       "      <td>39863</td>\n",
       "    </tr>\n",
       "    <tr>\n",
       "      <th>public_order_offense</th>\n",
       "      <td>7337</td>\n",
       "      <td>3573</td>\n",
       "    </tr>\n",
       "    <tr>\n",
       "      <th>sex_crime</th>\n",
       "      <td>11206</td>\n",
       "      <td>3784</td>\n",
       "    </tr>\n",
       "    <tr>\n",
       "      <th>theft_related_offense</th>\n",
       "      <td>122045</td>\n",
       "      <td>170371</td>\n",
       "    </tr>\n",
       "    <tr>\n",
       "      <th>violent_crime</th>\n",
       "      <td>95027</td>\n",
       "      <td>83183</td>\n",
       "    </tr>\n",
       "  </tbody>\n",
       "</table>\n",
       "</div>"
      ],
      "text/plain": [
       "clean_sex                   F       M\n",
       "crime_categories                     \n",
       "fraud                     291     242\n",
       "miscellaneous_crime      1940    2697\n",
       "property_crime          34324   39863\n",
       "public_order_offense     7337    3573\n",
       "sex_crime               11206    3784\n",
       "theft_related_offense  122045  170371\n",
       "violent_crime           95027   83183"
      ]
     },
     "execution_count": 87,
     "metadata": {},
     "output_type": "execute_result"
    }
   ],
   "source": [
    "sex_crosstab"
   ]
  },
  {
   "cell_type": "code",
   "execution_count": 88,
   "id": "2d4f8b67",
   "metadata": {
    "scrolled": true
   },
   "outputs": [
    {
     "data": {
      "image/png": "[encoded data removed]",
      "text/plain": [
       "<Figure size 640x480 with 2 Axes>"
      ]
     },
     "metadata": {},
     "output_type": "display_data"
    }
   ],
   "source": [
    "heat_map = sns.heatmap(sex_crosstab, linewidths = 1, cmap=\"Reds\")\n",
    "\n",
    "plt.title(\"Heatmap of crimes by sex of victim\")\n",
    "plt.xlabel(\"Sex\")\n",
    "plt.ylabel(\"Crimes\")\n",
    "\n",
    "\n",
    "plt.show()"
   ]
  },
  {
   "cell_type": "code",
   "execution_count": 89,
   "id": "d567ae15",
   "metadata": {},
   "outputs": [],
   "source": [
    "#Additional information related to the project.\n",
    "#This function webscrapes wikipedia for basic info about the President of the United States, mayor and LAPD chief."
   ]
  },
  {
   "cell_type": "code",
   "execution_count": 90,
   "id": "e768d4e7",
   "metadata": {},
   "outputs": [
    {
     "name": "stdout",
     "output_type": "stream",
     "text": [
      "Name: Dominic Choi\n",
      "Preceded by: Michel Moore\n",
      "Born: Los Angeles, California, U.S.\n",
      "Alma mater: University of Southern California\n",
      "Department:  Los Angeles Police Department\n",
      "Serviceyears: 1995–present\n",
      "Rank:  Chief of police – 2024Sworn in as a Police Officer: 1995\n"
     ]
    },
    {
     "name": "stderr",
     "output_type": "stream",
     "text": [
      "C:\\Users\\diego\\Documents\\IRONHACK\\DATA_ANALYTICS\\WEEK_3\\PROJECT\\project_functions.py:294: GuessedAtParserWarning: No parser was explicitly specified, so I'm using the best available HTML parser for this system (\"lxml\"). This usually isn't a problem, but if you run this code on another system, or in a different virtual environment, it may use a different parser and behave differently.\n",
      "\n",
      "The code that caused this warning is on line 294 of the file C:\\Users\\diego\\Documents\\IRONHACK\\DATA_ANALYTICS\\WEEK_3\\PROJECT\\project_functions.py. To get rid of this warning, pass the additional argument 'features=\"lxml\"' to the BeautifulSoup constructor.\n",
      "\n",
      "  chief_soup = BeautifulSoup(chief_response.content)\n"
     ]
    }
   ],
   "source": [
    "pf.chief_info()"
   ]
  },
  {
   "cell_type": "code",
   "execution_count": 91,
   "id": "0810fb89",
   "metadata": {},
   "outputs": [
    {
     "name": "stdout",
     "output_type": "stream",
     "text": [
      "Name: Karen Bass\n",
      "Style: Her Honor\n",
      "Residence: Getty House\n",
      "Term length: Four years (renewable once)\n",
      "Inaugural holder: Alpheus P. Hodges\n",
      "Formation: 1850\n",
      "Salary: $269,365\n",
      "Website: mayor.lacity.gov\n"
     ]
    },
    {
     "name": "stderr",
     "output_type": "stream",
     "text": [
      "C:\\Users\\diego\\Documents\\IRONHACK\\DATA_ANALYTICS\\WEEK_3\\PROJECT\\project_functions.py:325: GuessedAtParserWarning: No parser was explicitly specified, so I'm using the best available HTML parser for this system (\"lxml\"). This usually isn't a problem, but if you run this code on another system, or in a different virtual environment, it may use a different parser and behave differently.\n",
      "\n",
      "The code that caused this warning is on line 325 of the file C:\\Users\\diego\\Documents\\IRONHACK\\DATA_ANALYTICS\\WEEK_3\\PROJECT\\project_functions.py. To get rid of this warning, pass the additional argument 'features=\"lxml\"' to the BeautifulSoup constructor.\n",
      "\n",
      "  mayor_soup = BeautifulSoup(mayor_response.content)\n"
     ]
    }
   ],
   "source": [
    "pf.mayor_info()"
   ]
  },
  {
   "cell_type": "code",
   "execution_count": 92,
   "id": "c709f9e4",
   "metadata": {},
   "outputs": [
    {
     "name": "stderr",
     "output_type": "stream",
     "text": [
      "C:\\Users\\diego\\Documents\\IRONHACK\\DATA_ANALYTICS\\WEEK_3\\PROJECT\\project_functions.py:356: GuessedAtParserWarning: No parser was explicitly specified, so I'm using the best available HTML parser for this system (\"lxml\"). This usually isn't a problem, but if you run this code on another system, or in a different virtual environment, it may use a different parser and behave differently.\n",
      "\n",
      "The code that caused this warning is on line 356 of the file C:\\Users\\diego\\Documents\\IRONHACK\\DATA_ANALYTICS\\WEEK_3\\PROJECT\\project_functions.py. To get rid of this warning, pass the additional argument 'features=\"lxml\"' to the BeautifulSoup constructor.\n",
      "\n",
      "  president_soup = BeautifulSoup(president_response.content)\n"
     ]
    },
    {
     "name": "stdout",
     "output_type": "stream",
     "text": [
      "Name: Joe Biden\n",
      "Style: \n",
      "Mr. President[1][2] (informal)\n",
      "The Honorable[3] (formal)\n",
      "His Excellency[4][5] (diplomatic)\n",
      "\n",
      "Type: \n",
      "Head of state\n",
      "Head of government\n",
      "Commander-in-chief\n",
      "\n",
      "Abbreviation: POTUS\n",
      "Member of: \n",
      "Cabinet\n",
      "Domestic Policy Council\n",
      "National Economic Council\n",
      "National Security Council\n",
      "\n",
      "Residence: White House\n",
      "Seat: Washington, D.C.\n",
      "Appointer: Electoral College or via succession\n",
      "Term length: Four years, renewable once\n",
      "Constituting instrument: Constitution of the United States\n",
      "Formation: March 4, 1789(235 years ago) (1789-03-04)[6][7][8]\n",
      "First holder: George Washington[9]\n",
      "Salary: $400,000 per year[A]\n",
      "Website: whitehouse.gov\n"
     ]
    }
   ],
   "source": [
    "pf.president_info()"
   ]
  }
 ],
 "metadata": {
  "kernelspec": {
   "display_name": "Python 3 (ipykernel)",
   "language": "python",
   "name": "python3"
  },
  "language_info": {
   "codemirror_mode": {
    "name": "ipython",
    "version": 3
   },
   "file_extension": ".py",
   "mimetype": "text/x-python",
   "name": "python",
   "nbconvert_exporter": "python",
   "pygments_lexer": "ipython3",
   "version": "3.11.7"
  }
 },
 "nbformat": 4,
 "nbformat_minor": 5
}
